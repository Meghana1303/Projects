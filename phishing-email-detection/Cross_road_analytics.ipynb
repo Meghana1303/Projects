{
  "cells": [
    {
      "cell_type": "markdown",
      "metadata": {
        "id": "_JcQCsxLFiJX"
      },
      "source": [
        "<h1><b>Code to parse mbox data into csv format"
      ]
    },
    {
      "cell_type": "code",
      "execution_count": 8,
      "metadata": {
        "id": "lnMpxY4wFpbs"
      },
      "outputs": [],
      "source": [
        "import pandas as pd\n",
        "import numpy as np"
      ]
    },
    {
      "cell_type": "code",
      "execution_count": 6,
      "metadata": {
        "id": "Z4VjJtvGZHzc"
      },
      "outputs": [],
      "source": [
        "# importing the libraries\n",
        "from bs4 import BeautifulSoup\n",
        "import mailbox\n",
        "import csv\n",
        "import sys"
      ]
    },
    {
      "cell_type": "code",
      "execution_count": 1,
      "metadata": {
        "id": "XTnocTqdlc6X"
      },
      "outputs": [],
      "source": [
        "\n",
        "def getcharsets(msg):\n",
        "    charsets = set({})\n",
        "    for c in msg.get_charsets():\n",
        "        if c is not None:\n",
        "            charsets.update([c])\n",
        "    return charsets\n",
        "\n",
        "def getBody(msg):\n",
        "    #walking through the text part of the email\n",
        "    while msg.is_multipart():\n",
        "        msg=msg.get_payload()[0]\n",
        "        #returns the list of message objects\n",
        "    t=msg.get_payload(decode=True)\n",
        "    #gets the current message object and decods it\n",
        "    for charset in getcharsets(msg):\n",
        "        try:\n",
        "            t = t.decode(charset, \"UTF-8\")\n",
        "        except UnicodeDecodeError:\n",
        "            print(\"UnicodeDecodeError: encountered.\",msg,charset)\n",
        "        except AttributeError:\n",
        "             print(\"AttributeError: encountered\" ,msg,charset)\n",
        "        except:\n",
        "             e=sys.exc_info()[0]\n",
        "             \n",
        "    return t"
      ]
    },
    {
      "cell_type": "markdown",
      "metadata": {
        "id": "32UouV2LG0mi"
      },
      "source": [
        "###Iterating through the mbox file and writing each row as output in csv format\n"
      ]
    },
    {
      "cell_type": "code",
      "execution_count": 4,
      "metadata": {
        "id": "BwFrPHT4ddXh"
      },
      "outputs": [],
      "source": [
        "\n",
        "\n",
        "writer = csv.writer(open(\"mbox-output-p3.csv\", \"w\"))\n",
        "\n",
        "for message in mailbox.mbox('/content/phishing0.mbox'):\n",
        "\twriter.writerow([message['message-id'], message['subject'], message['from'],BeautifulSoup(getBody(message))])"
      ]
    },
    {
      "cell_type": "code",
      "execution_count": 12,
      "metadata": {
        "id": "I_riXOOw4hZN"
      },
      "outputs": [],
      "source": [
        "dd=pd.read_csv('/content/mbox-output-p3.csv', header=None)"
      ]
    },
    {
      "cell_type": "code",
      "execution_count": 13,
      "metadata": {
        "colab": {
          "base_uri": "https://localhost:8080/",
          "height": 354
        },
        "id": "Jw2uAt2t4kAD",
        "outputId": "da04f295-386c-4dd3-d8fe-c47167b7ab88"
      },
      "outputs": [
        {
          "data": {
            "text/html": [
              "\n",
              "  <div id=\"df-b09f510b-2a4c-4191-aaa4-85521e37c95b\">\n",
              "    <div class=\"colab-df-container\">\n",
              "      <div>\n",
              "<style scoped>\n",
              "    .dataframe tbody tr th:only-of-type {\n",
              "        vertical-align: middle;\n",
              "    }\n",
              "\n",
              "    .dataframe tbody tr th {\n",
              "        vertical-align: top;\n",
              "    }\n",
              "\n",
              "    .dataframe thead th {\n",
              "        text-align: right;\n",
              "    }\n",
              "</style>\n",
              "<table border=\"1\" class=\"dataframe\">\n",
              "  <thead>\n",
              "    <tr style=\"text-align: right;\">\n",
              "      <th></th>\n",
              "      <th>0</th>\n",
              "      <th>1</th>\n",
              "      <th>2</th>\n",
              "      <th>3</th>\n",
              "    </tr>\n",
              "  </thead>\n",
              "  <tbody>\n",
              "    <tr>\n",
              "      <th>0</th>\n",
              "      <td>&lt;LCCOVYFMRBWQCHUDWYCOYUW@hotmail.com&gt;</td>\n",
              "      <td>Billing Issues</td>\n",
              "      <td>\"aw-confirm@ebay.com\" &lt;aw-confirm@ebay.com&gt;</td>\n",
              "      <td>&lt;html&gt;\\n&lt;body&gt;&lt;p&gt;\\n&lt;a href=\"http://click3.ebay...</td>\n",
              "    </tr>\n",
              "    <tr>\n",
              "      <th>1</th>\n",
              "      <td>&lt;20041127192251.E0F57187C61@mail2.domain.com&gt;</td>\n",
              "      <td>Homeland Security Co AIMT signs Critical U.S. ...</td>\n",
              "      <td>\"Instant On-Line Alert\" &lt;info@info-mrktng.com&gt;</td>\n",
              "      <td>&lt;!DOCTYPE HTML PUBLIC \"-//W3C//DTD HTML 4.01 T...</td>\n",
              "    </tr>\n",
              "    <tr>\n",
              "      <th>2</th>\n",
              "      <td>&lt;1101659380431.eBay.705443.53897.0@reply3.ebay...</td>\n",
              "      <td>Shop the easy way! Find something for everyone...</td>\n",
              "      <td>\"eBay\" &lt;eBay@reply3.ebay.com&gt;</td>\n",
              "      <td>&lt;html&gt;&lt;body&gt;&lt;p&gt;eBay --&amp;gt; http://click3.ebay....</td>\n",
              "    </tr>\n",
              "    <tr>\n",
              "      <th>3</th>\n",
              "      <td>&lt;000301c4d5ae$9231cea0$4553594d@myselves&gt;</td>\n",
              "      <td>Confirmation</td>\n",
              "      <td>exchange-robot@paypal.com</td>\n",
              "      <td>&lt;!DOCTYPE html PUBLIC \"-//W3C//DTD HTML 4.01 T...</td>\n",
              "    </tr>\n",
              "    <tr>\n",
              "      <th>4</th>\n",
              "      <td>&lt;JDXSYRKPDISQIRUBXXMCHBC@goldenmail.ru&gt;</td>\n",
              "      <td>WARNING-IFRAME-Your account at eBay has been s...</td>\n",
              "      <td>\"eBay.com\" &lt;aw-confirm@ebay.com&gt;</td>\n",
              "      <td>&lt;!DOCTYPE HTML PUBLIC \"-//W3C//DTD HTML 4.0 Tr...</td>\n",
              "    </tr>\n",
              "  </tbody>\n",
              "</table>\n",
              "</div>\n",
              "      <button class=\"colab-df-convert\" onclick=\"convertToInteractive('df-b09f510b-2a4c-4191-aaa4-85521e37c95b')\"\n",
              "              title=\"Convert this dataframe to an interactive table.\"\n",
              "              style=\"display:none;\">\n",
              "        \n",
              "  <svg xmlns=\"http://www.w3.org/2000/svg\" height=\"24px\"viewBox=\"0 0 24 24\"\n",
              "       width=\"24px\">\n",
              "    <path d=\"M0 0h24v24H0V0z\" fill=\"none\"/>\n",
              "    <path d=\"M18.56 5.44l.94 2.06.94-2.06 2.06-.94-2.06-.94-.94-2.06-.94 2.06-2.06.94zm-11 1L8.5 8.5l.94-2.06 2.06-.94-2.06-.94L8.5 2.5l-.94 2.06-2.06.94zm10 10l.94 2.06.94-2.06 2.06-.94-2.06-.94-.94-2.06-.94 2.06-2.06.94z\"/><path d=\"M17.41 7.96l-1.37-1.37c-.4-.4-.92-.59-1.43-.59-.52 0-1.04.2-1.43.59L10.3 9.45l-7.72 7.72c-.78.78-.78 2.05 0 2.83L4 21.41c.39.39.9.59 1.41.59.51 0 1.02-.2 1.41-.59l7.78-7.78 2.81-2.81c.8-.78.8-2.07 0-2.86zM5.41 20L4 18.59l7.72-7.72 1.47 1.35L5.41 20z\"/>\n",
              "  </svg>\n",
              "      </button>\n",
              "      \n",
              "  <style>\n",
              "    .colab-df-container {\n",
              "      display:flex;\n",
              "      flex-wrap:wrap;\n",
              "      gap: 12px;\n",
              "    }\n",
              "\n",
              "    .colab-df-convert {\n",
              "      background-color: #E8F0FE;\n",
              "      border: none;\n",
              "      border-radius: 50%;\n",
              "      cursor: pointer;\n",
              "      display: none;\n",
              "      fill: #1967D2;\n",
              "      height: 32px;\n",
              "      padding: 0 0 0 0;\n",
              "      width: 32px;\n",
              "    }\n",
              "\n",
              "    .colab-df-convert:hover {\n",
              "      background-color: #E2EBFA;\n",
              "      box-shadow: 0px 1px 2px rgba(60, 64, 67, 0.3), 0px 1px 3px 1px rgba(60, 64, 67, 0.15);\n",
              "      fill: #174EA6;\n",
              "    }\n",
              "\n",
              "    [theme=dark] .colab-df-convert {\n",
              "      background-color: #3B4455;\n",
              "      fill: #D2E3FC;\n",
              "    }\n",
              "\n",
              "    [theme=dark] .colab-df-convert:hover {\n",
              "      background-color: #434B5C;\n",
              "      box-shadow: 0px 1px 3px 1px rgba(0, 0, 0, 0.15);\n",
              "      filter: drop-shadow(0px 1px 2px rgba(0, 0, 0, 0.3));\n",
              "      fill: #FFFFFF;\n",
              "    }\n",
              "  </style>\n",
              "\n",
              "      <script>\n",
              "        const buttonEl =\n",
              "          document.querySelector('#df-b09f510b-2a4c-4191-aaa4-85521e37c95b button.colab-df-convert');\n",
              "        buttonEl.style.display =\n",
              "          google.colab.kernel.accessAllowed ? 'block' : 'none';\n",
              "\n",
              "        async function convertToInteractive(key) {\n",
              "          const element = document.querySelector('#df-b09f510b-2a4c-4191-aaa4-85521e37c95b');\n",
              "          const dataTable =\n",
              "            await google.colab.kernel.invokeFunction('convertToInteractive',\n",
              "                                                     [key], {});\n",
              "          if (!dataTable) return;\n",
              "\n",
              "          const docLinkHtml = 'Like what you see? Visit the ' +\n",
              "            '<a target=\"_blank\" href=https://colab.research.google.com/notebooks/data_table.ipynb>data table notebook</a>'\n",
              "            + ' to learn more about interactive tables.';\n",
              "          element.innerHTML = '';\n",
              "          dataTable['output_type'] = 'display_data';\n",
              "          await google.colab.output.renderOutput(dataTable, element);\n",
              "          const docLink = document.createElement('div');\n",
              "          docLink.innerHTML = docLinkHtml;\n",
              "          element.appendChild(docLink);\n",
              "        }\n",
              "      </script>\n",
              "    </div>\n",
              "  </div>\n",
              "  "
            ],
            "text/plain": [
              "                                                   0  \\\n",
              "0              <LCCOVYFMRBWQCHUDWYCOYUW@hotmail.com>   \n",
              "1      <20041127192251.E0F57187C61@mail2.domain.com>   \n",
              "2  <1101659380431.eBay.705443.53897.0@reply3.ebay...   \n",
              "3          <000301c4d5ae$9231cea0$4553594d@myselves>   \n",
              "4            <JDXSYRKPDISQIRUBXXMCHBC@goldenmail.ru>   \n",
              "\n",
              "                                                   1  \\\n",
              "0                                     Billing Issues   \n",
              "1  Homeland Security Co AIMT signs Critical U.S. ...   \n",
              "2  Shop the easy way! Find something for everyone...   \n",
              "3                                       Confirmation   \n",
              "4  WARNING-IFRAME-Your account at eBay has been s...   \n",
              "\n",
              "                                                2  \\\n",
              "0     \"aw-confirm@ebay.com\" <aw-confirm@ebay.com>   \n",
              "1  \"Instant On-Line Alert\" <info@info-mrktng.com>   \n",
              "2                   \"eBay\" <eBay@reply3.ebay.com>   \n",
              "3                       exchange-robot@paypal.com   \n",
              "4                \"eBay.com\" <aw-confirm@ebay.com>   \n",
              "\n",
              "                                                   3  \n",
              "0  <html>\\n<body><p>\\n<a href=\"http://click3.ebay...  \n",
              "1  <!DOCTYPE HTML PUBLIC \"-//W3C//DTD HTML 4.01 T...  \n",
              "2  <html><body><p>eBay --&gt; http://click3.ebay....  \n",
              "3  <!DOCTYPE html PUBLIC \"-//W3C//DTD HTML 4.01 T...  \n",
              "4  <!DOCTYPE HTML PUBLIC \"-//W3C//DTD HTML 4.0 Tr...  "
            ]
          },
          "execution_count": 13,
          "metadata": {},
          "output_type": "execute_result"
        }
      ],
      "source": [
        "dd.head()"
      ]
    },
    {
      "cell_type": "markdown",
      "metadata": {
        "id": "h9mKaClZHjZr"
      },
      "source": [
        "### Next step would be pre-processing"
      ]
    },
    {
      "cell_type": "code",
      "execution_count": null,
      "metadata": {
        "id": "BudIJkVOHioe"
      },
      "outputs": [],
      "source": []
    }
  ],
  "metadata": {
    "colab": {
      "name": "Cross_road_analytics.ipynb",
      "provenance": []
    },
    "kernelspec": {
      "display_name": "Python 3",
      "name": "python3"
    },
    "language_info": {
      "name": "python"
    }
  },
  "nbformat": 4,
  "nbformat_minor": 0
}
