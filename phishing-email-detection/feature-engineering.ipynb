{
 "cells": [
  {
   "cell_type": "code",
   "execution_count": null,
   "metadata": {
    "id": "P2RcvolSAVA3"
   },
   "outputs": [],
   "source": [
    "import pandas as pd\n",
    "import numpy as np"
   ]
  },
  {
   "cell_type": "code",
   "execution_count": null,
   "metadata": {
    "id": "gttXzwUMBI5J"
   },
   "outputs": [],
   "source": [
    "train_data = pd.read_csv('cleaned_data.csv')"
   ]
  },
  {
   "cell_type": "markdown",
   "metadata": {
    "id": "AlfpbJf1BjWy"
   },
   "source": [
    "## Adding 100 instances from test data so that our model can learn from it"
   ]
  },
  {
   "cell_type": "code",
   "execution_count": null,
   "metadata": {
    "id": "bdd5my5pL-lI"
   },
   "outputs": [],
   "source": [
    "cc=pd.read_csv(\"/content/CCAC_train_data.csv\")\n",
    "#instances from the test data"
   ]
  },
  {
   "cell_type": "code",
   "execution_count": null,
   "metadata": {
    "id": "0w7jl8L-Vw36"
   },
   "outputs": [],
   "source": [
    "cc=cc[['Subject','Body','Label','SenderEmailAddress']]"
   ]
  },
  {
   "cell_type": "code",
   "execution_count": null,
   "metadata": {
    "colab": {
     "base_uri": "https://localhost:8080/",
     "height": 468
    },
    "id": "zTBDw6r1WBrJ",
    "outputId": "39332f54-49be-4ee8-ae40-bccdf833eb1c"
   },
   "outputs": [
    {
     "data": {
      "text/html": [
       "\n",
       "  <div id=\"df-e2e43440-b933-4dee-9543-08e9391f2554\">\n",
       "    <div class=\"colab-df-container\">\n",
       "      <div>\n",
       "<style scoped>\n",
       "    .dataframe tbody tr th:only-of-type {\n",
       "        vertical-align: middle;\n",
       "    }\n",
       "\n",
       "    .dataframe tbody tr th {\n",
       "        vertical-align: top;\n",
       "    }\n",
       "\n",
       "    .dataframe thead th {\n",
       "        text-align: right;\n",
       "    }\n",
       "</style>\n",
       "<table border=\"1\" class=\"dataframe\">\n",
       "  <thead>\n",
       "    <tr style=\"text-align: right;\">\n",
       "      <th></th>\n",
       "      <th>Subject</th>\n",
       "      <th>body</th>\n",
       "      <th>Label</th>\n",
       "      <th>From</th>\n",
       "    </tr>\n",
       "  </thead>\n",
       "  <tbody>\n",
       "    <tr>\n",
       "      <th>0</th>\n",
       "      <td>continental.com specials for chris germany</td>\n",
       "      <td>b\"continental.com specials for chris germany\\n...</td>\n",
       "      <td>0</td>\n",
       "      <td>continental_airlines_inc@coair.rsc01.com</td>\n",
       "    </tr>\n",
       "    <tr>\n",
       "      <th>1</th>\n",
       "      <td>re: rebuttal testimony (draft) on behalf of tw</td>\n",
       "      <td>b\"fyi - i have not changes to suggest.\\n\\nmich...</td>\n",
       "      <td>0</td>\n",
       "      <td>alexanms@sce.com</td>\n",
       "    </tr>\n",
       "    <tr>\n",
       "      <th>2</th>\n",
       "      <td>Scheduled Maintenance &amp; Upgrade</td>\n",
       "      <td>\\nit service desk\\n\\nattn account user,\\n\\nsch...</td>\n",
       "      <td>1</td>\n",
       "      <td>tech.team@tech-center.com</td>\n",
       "    </tr>\n",
       "    <tr>\n",
       "      <th>3</th>\n",
       "      <td>re: texas legislative oversight committee</td>\n",
       "      <td>b'i have spoken to mark, he will send a list o...</td>\n",
       "      <td>0</td>\n",
       "      <td>jean.ryall@enron.com</td>\n",
       "    </tr>\n",
       "    <tr>\n",
       "      <th>4</th>\n",
       "      <td>correspondence from donn fullenweider</td>\n",
       "      <td>b'\\nsee attached correspondence from donn  ful...</td>\n",
       "      <td>0</td>\n",
       "      <td>jls@fullenweider.com</td>\n",
       "    </tr>\n",
       "    <tr>\n",
       "      <th>...</th>\n",
       "      <td>...</td>\n",
       "      <td>...</td>\n",
       "      <td>...</td>\n",
       "      <td>...</td>\n",
       "    </tr>\n",
       "    <tr>\n",
       "      <th>10891</th>\n",
       "      <td>Receipt for Your Payment</td>\n",
       "      <td>\\r\\n\\r\\ndear     paypal       member      ,\\r\\...</td>\n",
       "      <td>1</td>\n",
       "      <td>security@PayPal.com</td>\n",
       "    </tr>\n",
       "    <tr>\n",
       "      <th>10892</th>\n",
       "      <td>re: e-mail alert and testimony finalization</td>\n",
       "      <td>b\"i am resending this because many of you have...</td>\n",
       "      <td>0</td>\n",
       "      <td>bcherry@sempra.com</td>\n",
       "    </tr>\n",
       "    <tr>\n",
       "      <th>10893</th>\n",
       "      <td>re: offer on gas daily option at waha and perm</td>\n",
       "      <td>b' \\n\\n -----original message-----\\nfrom: \\tbu...</td>\n",
       "      <td>0</td>\n",
       "      <td>larry.may@enron.com</td>\n",
       "    </tr>\n",
       "    <tr>\n",
       "      <th>10894</th>\n",
       "      <td>re:</td>\n",
       "      <td>b\"can we make it a weekend\\n\\n -----original m...</td>\n",
       "      <td>0</td>\n",
       "      <td>mike.maggi@enron.com</td>\n",
       "    </tr>\n",
       "    <tr>\n",
       "      <th>10895</th>\n",
       "      <td>fw: true orange, may 15, 2000, part 2</td>\n",
       "      <td>b'-----original message-----\\nfrom: truorange@...</td>\n",
       "      <td>0</td>\n",
       "      <td>jdickinson@mail.utexas.edu</td>\n",
       "    </tr>\n",
       "  </tbody>\n",
       "</table>\n",
       "<p>10896 rows × 4 columns</p>\n",
       "</div>\n",
       "      <button class=\"colab-df-convert\" onclick=\"convertToInteractive('df-e2e43440-b933-4dee-9543-08e9391f2554')\"\n",
       "              title=\"Convert this dataframe to an interactive table.\"\n",
       "              style=\"display:none;\">\n",
       "        \n",
       "  <svg xmlns=\"http://www.w3.org/2000/svg\" height=\"24px\"viewBox=\"0 0 24 24\"\n",
       "       width=\"24px\">\n",
       "    <path d=\"M0 0h24v24H0V0z\" fill=\"none\"/>\n",
       "    <path d=\"M18.56 5.44l.94 2.06.94-2.06 2.06-.94-2.06-.94-.94-2.06-.94 2.06-2.06.94zm-11 1L8.5 8.5l.94-2.06 2.06-.94-2.06-.94L8.5 2.5l-.94 2.06-2.06.94zm10 10l.94 2.06.94-2.06 2.06-.94-2.06-.94-.94-2.06-.94 2.06-2.06.94z\"/><path d=\"M17.41 7.96l-1.37-1.37c-.4-.4-.92-.59-1.43-.59-.52 0-1.04.2-1.43.59L10.3 9.45l-7.72 7.72c-.78.78-.78 2.05 0 2.83L4 21.41c.39.39.9.59 1.41.59.51 0 1.02-.2 1.41-.59l7.78-7.78 2.81-2.81c.8-.78.8-2.07 0-2.86zM5.41 20L4 18.59l7.72-7.72 1.47 1.35L5.41 20z\"/>\n",
       "  </svg>\n",
       "      </button>\n",
       "      \n",
       "  <style>\n",
       "    .colab-df-container {\n",
       "      display:flex;\n",
       "      flex-wrap:wrap;\n",
       "      gap: 12px;\n",
       "    }\n",
       "\n",
       "    .colab-df-convert {\n",
       "      background-color: #E8F0FE;\n",
       "      border: none;\n",
       "      border-radius: 50%;\n",
       "      cursor: pointer;\n",
       "      display: none;\n",
       "      fill: #1967D2;\n",
       "      height: 32px;\n",
       "      padding: 0 0 0 0;\n",
       "      width: 32px;\n",
       "    }\n",
       "\n",
       "    .colab-df-convert:hover {\n",
       "      background-color: #E2EBFA;\n",
       "      box-shadow: 0px 1px 2px rgba(60, 64, 67, 0.3), 0px 1px 3px 1px rgba(60, 64, 67, 0.15);\n",
       "      fill: #174EA6;\n",
       "    }\n",
       "\n",
       "    [theme=dark] .colab-df-convert {\n",
       "      background-color: #3B4455;\n",
       "      fill: #D2E3FC;\n",
       "    }\n",
       "\n",
       "    [theme=dark] .colab-df-convert:hover {\n",
       "      background-color: #434B5C;\n",
       "      box-shadow: 0px 1px 3px 1px rgba(0, 0, 0, 0.15);\n",
       "      filter: drop-shadow(0px 1px 2px rgba(0, 0, 0, 0.3));\n",
       "      fill: #FFFFFF;\n",
       "    }\n",
       "  </style>\n",
       "\n",
       "      <script>\n",
       "        const buttonEl =\n",
       "          document.querySelector('#df-e2e43440-b933-4dee-9543-08e9391f2554 button.colab-df-convert');\n",
       "        buttonEl.style.display =\n",
       "          google.colab.kernel.accessAllowed ? 'block' : 'none';\n",
       "\n",
       "        async function convertToInteractive(key) {\n",
       "          const element = document.querySelector('#df-e2e43440-b933-4dee-9543-08e9391f2554');\n",
       "          const dataTable =\n",
       "            await google.colab.kernel.invokeFunction('convertToInteractive',\n",
       "                                                     [key], {});\n",
       "          if (!dataTable) return;\n",
       "\n",
       "          const docLinkHtml = 'Like what you see? Visit the ' +\n",
       "            '<a target=\"_blank\" href=https://colab.research.google.com/notebooks/data_table.ipynb>data table notebook</a>'\n",
       "            + ' to learn more about interactive tables.';\n",
       "          element.innerHTML = '';\n",
       "          dataTable['output_type'] = 'display_data';\n",
       "          await google.colab.output.renderOutput(dataTable, element);\n",
       "          const docLink = document.createElement('div');\n",
       "          docLink.innerHTML = docLinkHtml;\n",
       "          element.appendChild(docLink);\n",
       "        }\n",
       "      </script>\n",
       "    </div>\n",
       "  </div>\n",
       "  "
      ],
      "text/plain": [
       "                                              Subject  ...                                      From\n",
       "0          continental.com specials for chris germany  ...  continental_airlines_inc@coair.rsc01.com\n",
       "1      re: rebuttal testimony (draft) on behalf of tw  ...                          alexanms@sce.com\n",
       "2                     Scheduled Maintenance & Upgrade  ...                 tech.team@tech-center.com\n",
       "3           re: texas legislative oversight committee  ...                      jean.ryall@enron.com\n",
       "4               correspondence from donn fullenweider  ...                      jls@fullenweider.com\n",
       "...                                               ...  ...                                       ...\n",
       "10891                        Receipt for Your Payment  ...                       security@PayPal.com\n",
       "10892     re: e-mail alert and testimony finalization  ...                        bcherry@sempra.com\n",
       "10893  re: offer on gas daily option at waha and perm  ...                       larry.may@enron.com\n",
       "10894                                             re:  ...                      mike.maggi@enron.com\n",
       "10895           fw: true orange, may 15, 2000, part 2  ...                jdickinson@mail.utexas.edu\n",
       "\n",
       "[10896 rows x 4 columns]"
      ]
     },
     "execution_count": 7,
     "metadata": {},
     "output_type": "execute_result"
    }
   ],
   "source": [
    "train_data=train_data[['Subject','body','Label','From']]\n",
    "train_data"
   ]
  },
  {
   "cell_type": "code",
   "execution_count": null,
   "metadata": {
    "id": "RpUP0BMuiJgU"
   },
   "outputs": [],
   "source": [
    "train_data = train_data.rename(columns={'body': 'Body','From':'SenderEmailAddress'})\n"
   ]
  },
  {
   "cell_type": "markdown",
   "metadata": {
    "id": "GiFat9bHiRKI"
   },
   "source": [
    "# Concatenating ccac and train data\n",
    "\n",
    "\n"
   ]
  },
  {
   "cell_type": "code",
   "execution_count": null,
   "metadata": {
    "id": "KLWnOkw_iTCs"
   },
   "outputs": [],
   "source": [
    "frames = [train_data, cc]\n",
    "train = pd.concat(frames)"
   ]
  },
  {
   "cell_type": "code",
   "execution_count": null,
   "metadata": {
    "colab": {
     "base_uri": "https://localhost:8080/",
     "height": 424
    },
    "id": "_015KbHMjIKt",
    "outputId": "b03c196e-2cf6-40da-dd8b-e76f6b34e171"
   },
   "outputs": [
    {
     "data": {
      "text/html": [
       "\n",
       "  <div id=\"df-a9332a08-75b0-4dc6-bf81-59aa66ae20bc\">\n",
       "    <div class=\"colab-df-container\">\n",
       "      <div>\n",
       "<style scoped>\n",
       "    .dataframe tbody tr th:only-of-type {\n",
       "        vertical-align: middle;\n",
       "    }\n",
       "\n",
       "    .dataframe tbody tr th {\n",
       "        vertical-align: top;\n",
       "    }\n",
       "\n",
       "    .dataframe thead th {\n",
       "        text-align: right;\n",
       "    }\n",
       "</style>\n",
       "<table border=\"1\" class=\"dataframe\">\n",
       "  <thead>\n",
       "    <tr style=\"text-align: right;\">\n",
       "      <th></th>\n",
       "      <th>Subject</th>\n",
       "      <th>Body</th>\n",
       "      <th>Label</th>\n",
       "      <th>SenderEmailAddress</th>\n",
       "    </tr>\n",
       "  </thead>\n",
       "  <tbody>\n",
       "    <tr>\n",
       "      <th>8546</th>\n",
       "      <td>re: esa facility agreement</td>\n",
       "      <td>b'brett,\\n\\ni think friday is perfect.  i will...</td>\n",
       "      <td>0</td>\n",
       "      <td>kay.mann@enron.com</td>\n",
       "    </tr>\n",
       "    <tr>\n",
       "      <th>10053</th>\n",
       "      <td>fpl - enron isda agreements &amp; attached files</td>\n",
       "      <td>b'sara and jason:  the changes you last sent w...</td>\n",
       "      <td>0</td>\n",
       "      <td>sgm@steelhector.com</td>\n",
       "    </tr>\n",
       "    <tr>\n",
       "      <th>3978</th>\n",
       "      <td>enron - livingston county privileged and confi...</td>\n",
       "      <td>b'matt, since so much of this related to tax, ...</td>\n",
       "      <td>0</td>\n",
       "      <td>kay.mann@enron.com</td>\n",
       "    </tr>\n",
       "    <tr>\n",
       "      <th>8695</th>\n",
       "      <td>AOL Administration Center Notification #72559</td>\n",
       "      <td>[http://csi.web.aol.com/email/aolmail/header.g...</td>\n",
       "      <td>1</td>\n",
       "      <td>AOLCenter@message.aol.com</td>\n",
       "    </tr>\n",
       "    <tr>\n",
       "      <th>2376</th>\n",
       "      <td>Your mailbox has exceeded the storage limit</td>\n",
       "      <td>your mailbox has exceeded the storage limit wh...</td>\n",
       "      <td>1</td>\n",
       "      <td>ssanborn@fpschools.org</td>\n",
       "    </tr>\n",
       "    <tr>\n",
       "      <th>...</th>\n",
       "      <td>...</td>\n",
       "      <td>...</td>\n",
       "      <td>...</td>\n",
       "      <td>...</td>\n",
       "    </tr>\n",
       "    <tr>\n",
       "      <th>10856</th>\n",
       "      <td>0002 variances</td>\n",
       "      <td>b'here is my breakdown for the number of 890,0...</td>\n",
       "      <td>0</td>\n",
       "      <td>phillip.love@enron.com</td>\n",
       "    </tr>\n",
       "    <tr>\n",
       "      <th>10419</th>\n",
       "      <td>fw: good luck america</td>\n",
       "      <td>b'----- forwarded by tana jones/hou/ect on 11/...</td>\n",
       "      <td>0</td>\n",
       "      <td>tana.jones@enron.com</td>\n",
       "    </tr>\n",
       "    <tr>\n",
       "      <th>9453</th>\n",
       "      <td>inventory</td>\n",
       "      <td>b\" under section four it shows where we cashed...</td>\n",
       "      <td>0</td>\n",
       "      <td>germanj@basf-corp.com</td>\n",
       "    </tr>\n",
       "    <tr>\n",
       "      <th>6832</th>\n",
       "      <td>re: deal 524310</td>\n",
       "      <td>b'surprise, surprise - mike checked with his b...</td>\n",
       "      <td>0</td>\n",
       "      <td>kate.symes@enron.com</td>\n",
       "    </tr>\n",
       "    <tr>\n",
       "      <th>5409</th>\n",
       "      <td>calpeak power rfp - shortlist</td>\n",
       "      <td>b'on behalf of calpeak, i am pleased to notify...</td>\n",
       "      <td>0</td>\n",
       "      <td>adonnell@prmllp.com</td>\n",
       "    </tr>\n",
       "  </tbody>\n",
       "</table>\n",
       "<p>10997 rows × 4 columns</p>\n",
       "</div>\n",
       "      <button class=\"colab-df-convert\" onclick=\"convertToInteractive('df-a9332a08-75b0-4dc6-bf81-59aa66ae20bc')\"\n",
       "              title=\"Convert this dataframe to an interactive table.\"\n",
       "              style=\"display:none;\">\n",
       "        \n",
       "  <svg xmlns=\"http://www.w3.org/2000/svg\" height=\"24px\"viewBox=\"0 0 24 24\"\n",
       "       width=\"24px\">\n",
       "    <path d=\"M0 0h24v24H0V0z\" fill=\"none\"/>\n",
       "    <path d=\"M18.56 5.44l.94 2.06.94-2.06 2.06-.94-2.06-.94-.94-2.06-.94 2.06-2.06.94zm-11 1L8.5 8.5l.94-2.06 2.06-.94-2.06-.94L8.5 2.5l-.94 2.06-2.06.94zm10 10l.94 2.06.94-2.06 2.06-.94-2.06-.94-.94-2.06-.94 2.06-2.06.94z\"/><path d=\"M17.41 7.96l-1.37-1.37c-.4-.4-.92-.59-1.43-.59-.52 0-1.04.2-1.43.59L10.3 9.45l-7.72 7.72c-.78.78-.78 2.05 0 2.83L4 21.41c.39.39.9.59 1.41.59.51 0 1.02-.2 1.41-.59l7.78-7.78 2.81-2.81c.8-.78.8-2.07 0-2.86zM5.41 20L4 18.59l7.72-7.72 1.47 1.35L5.41 20z\"/>\n",
       "  </svg>\n",
       "      </button>\n",
       "      \n",
       "  <style>\n",
       "    .colab-df-container {\n",
       "      display:flex;\n",
       "      flex-wrap:wrap;\n",
       "      gap: 12px;\n",
       "    }\n",
       "\n",
       "    .colab-df-convert {\n",
       "      background-color: #E8F0FE;\n",
       "      border: none;\n",
       "      border-radius: 50%;\n",
       "      cursor: pointer;\n",
       "      display: none;\n",
       "      fill: #1967D2;\n",
       "      height: 32px;\n",
       "      padding: 0 0 0 0;\n",
       "      width: 32px;\n",
       "    }\n",
       "\n",
       "    .colab-df-convert:hover {\n",
       "      background-color: #E2EBFA;\n",
       "      box-shadow: 0px 1px 2px rgba(60, 64, 67, 0.3), 0px 1px 3px 1px rgba(60, 64, 67, 0.15);\n",
       "      fill: #174EA6;\n",
       "    }\n",
       "\n",
       "    [theme=dark] .colab-df-convert {\n",
       "      background-color: #3B4455;\n",
       "      fill: #D2E3FC;\n",
       "    }\n",
       "\n",
       "    [theme=dark] .colab-df-convert:hover {\n",
       "      background-color: #434B5C;\n",
       "      box-shadow: 0px 1px 3px 1px rgba(0, 0, 0, 0.15);\n",
       "      filter: drop-shadow(0px 1px 2px rgba(0, 0, 0, 0.3));\n",
       "      fill: #FFFFFF;\n",
       "    }\n",
       "  </style>\n",
       "\n",
       "      <script>\n",
       "        const buttonEl =\n",
       "          document.querySelector('#df-a9332a08-75b0-4dc6-bf81-59aa66ae20bc button.colab-df-convert');\n",
       "        buttonEl.style.display =\n",
       "          google.colab.kernel.accessAllowed ? 'block' : 'none';\n",
       "\n",
       "        async function convertToInteractive(key) {\n",
       "          const element = document.querySelector('#df-a9332a08-75b0-4dc6-bf81-59aa66ae20bc');\n",
       "          const dataTable =\n",
       "            await google.colab.kernel.invokeFunction('convertToInteractive',\n",
       "                                                     [key], {});\n",
       "          if (!dataTable) return;\n",
       "\n",
       "          const docLinkHtml = 'Like what you see? Visit the ' +\n",
       "            '<a target=\"_blank\" href=https://colab.research.google.com/notebooks/data_table.ipynb>data table notebook</a>'\n",
       "            + ' to learn more about interactive tables.';\n",
       "          element.innerHTML = '';\n",
       "          dataTable['output_type'] = 'display_data';\n",
       "          await google.colab.output.renderOutput(dataTable, element);\n",
       "          const docLink = document.createElement('div');\n",
       "          docLink.innerHTML = docLinkHtml;\n",
       "          element.appendChild(docLink);\n",
       "        }\n",
       "      </script>\n",
       "    </div>\n",
       "  </div>\n",
       "  "
      ],
      "text/plain": [
       "                                                 Subject  ...         SenderEmailAddress\n",
       "8546                          re: esa facility agreement  ...         kay.mann@enron.com\n",
       "10053       fpl - enron isda agreements & attached files  ...        sgm@steelhector.com\n",
       "3978   enron - livingston county privileged and confi...  ...         kay.mann@enron.com\n",
       "8695       AOL Administration Center Notification #72559  ...  AOLCenter@message.aol.com\n",
       "2376         Your mailbox has exceeded the storage limit  ...     ssanborn@fpschools.org\n",
       "...                                                  ...  ...                        ...\n",
       "10856                                     0002 variances  ...     phillip.love@enron.com\n",
       "10419                              fw: good luck america  ...       tana.jones@enron.com\n",
       "9453                                           inventory  ...      germanj@basf-corp.com\n",
       "6832                                     re: deal 524310  ...       kate.symes@enron.com\n",
       "5409                       calpeak power rfp - shortlist  ...        adonnell@prmllp.com\n",
       "\n",
       "[10997 rows x 4 columns]"
      ]
     },
     "execution_count": 11,
     "metadata": {},
     "output_type": "execute_result"
    }
   ],
   "source": [
    "train.sample(frac=1)\n",
    "#shuffling the data"
   ]
  },
  {
   "cell_type": "code",
   "execution_count": null,
   "metadata": {
    "id": "Oxik_oebm-Qt"
   },
   "outputs": [],
   "source": [
    "train.reset_index(inplace=True)"
   ]
  },
  {
   "cell_type": "markdown",
   "metadata": {
    "id": "GGKsqjo3x6xN"
   },
   "source": [
    "### Extracting URLs from the body"
   ]
  },
  {
   "cell_type": "code",
   "execution_count": null,
   "metadata": {},
   "outputs": [],
   "source": [
    "import re\n",
    "def extract_url(text):\n",
    "    urls = re.findall('(?:http\\:|https\\:)?//(?:[-\\w.]|(?:%[\\da-fA-F]{2}))+', text)\n",
    "    return urls"
   ]
  },
  {
   "cell_type": "code",
   "execution_count": null,
   "metadata": {},
   "outputs": [],
   "source": [
    "url_list = []\n",
    "for i in range(len(train)):\n",
    "    text=str(train['Body'][i])\n",
    "    urls=extract_url(text)\n",
    "    url_list.append(urls)\n",
    "train['url']=url_list"
   ]
  },
  {
   "cell_type": "markdown",
   "metadata": {},
   "source": [
    "## Preprocessing"
   ]
  },
  {
   "cell_type": "markdown",
   "metadata": {
    "id": "JU_Uw4EXnOF_"
   },
   "source": [
    "\n",
    "\n",
    "### Removing emails, links and other escape sequences from the Body after the new data was added"
   ]
  },
  {
   "cell_type": "code",
   "execution_count": null,
   "metadata": {},
   "outputs": [],
   "source": [
    "def text_clean(email):\n",
    "   \n",
    "    email = re.sub('[a-z0-9\\.\\-+_]+@[a-z0-9\\.\\-+_]+\\.[a-z]+',' ',email) #email IDs\n",
    "    email = re.sub(r\"http\\S+\", \" \", email) #links\n",
    "    email = re.sub(r\"www\\S+\", \" \", email) #links\n",
    "    email = re.sub('\\n', ' ', email)\n",
    "    email = re.sub('\\r', ' ', email)\n",
    "    email = re.sub('\\\\t', ' ', email)\n",
    "    email = email.replace(\"'b\",\" \")\n",
    "    email = ''.join([i for i in email if not i.isdigit()])\n",
    "    #ignoring the digits and joining the rest\n",
    "    words = email.split()\n",
    "    table = str.maketrans(' ', ' ', '.!\"#$%&\\'()*+,-/:;<=>?@[\\\\]^_`{|}~—‘’”“')# removing special characters\n",
    "    #maps character to replacement\n",
    "    stripped = [w.translate(table) for w in words]\n",
    "    email=\" \".join(stripped)\n",
    "    return email\n",
    "\n"
   ]
  },
  {
   "cell_type": "code",
   "execution_count": null,
   "metadata": {
    "id": "Rvpv1KfrlQQ0"
   },
   "outputs": [],
   "source": [
    "tcl=[]\n",
    "for i in range(len(train)):\n",
    "    tc=str(train['Body'][i])\n",
    "    tc=remove_esc(tc)\n",
    "    tcl.append(tc)\n",
    "train['clean_esc_body']=tcl\n"
   ]
  },
  {
   "cell_type": "code",
   "execution_count": null,
   "metadata": {
    "colab": {
     "base_uri": "https://localhost:8080/",
     "height": 852
    },
    "id": "zv47K-b40Lsb",
    "outputId": "0d2bbc60-5800-4ac6-d917-879a0348b2c4"
   },
   "outputs": [
    {
     "data": {
      "text/html": [
       "\n",
       "  <div id=\"df-d65a93d1-5996-4f72-a71d-1c3938753258\">\n",
       "    <div class=\"colab-df-container\">\n",
       "      <div>\n",
       "<style scoped>\n",
       "    .dataframe tbody tr th:only-of-type {\n",
       "        vertical-align: middle;\n",
       "    }\n",
       "\n",
       "    .dataframe tbody tr th {\n",
       "        vertical-align: top;\n",
       "    }\n",
       "\n",
       "    .dataframe thead th {\n",
       "        text-align: right;\n",
       "    }\n",
       "</style>\n",
       "<table border=\"1\" class=\"dataframe\">\n",
       "  <thead>\n",
       "    <tr style=\"text-align: right;\">\n",
       "      <th></th>\n",
       "      <th>index</th>\n",
       "      <th>Subject</th>\n",
       "      <th>Body</th>\n",
       "      <th>Label</th>\n",
       "      <th>SenderEmailAddress</th>\n",
       "      <th>url</th>\n",
       "      <th>clean_esc_body</th>\n",
       "    </tr>\n",
       "  </thead>\n",
       "  <tbody>\n",
       "    <tr>\n",
       "      <th>0</th>\n",
       "      <td>0</td>\n",
       "      <td>continental.com specials for chris germany</td>\n",
       "      <td>b\"continental.com specials for chris germany\\n...</td>\n",
       "      <td>0</td>\n",
       "      <td>continental_airlines_inc@coair.rsc01.com</td>\n",
       "      <td>[http://continentalairlines.rsc01.net, http://...</td>\n",
       "      <td>continental.com specials for chris germany wed...</td>\n",
       "    </tr>\n",
       "    <tr>\n",
       "      <th>1</th>\n",
       "      <td>1</td>\n",
       "      <td>re: rebuttal testimony (draft) on behalf of tw</td>\n",
       "      <td>b\"fyi - i have not changes to suggest.\\n\\nmich...</td>\n",
       "      <td>0</td>\n",
       "      <td>alexanms@sce.com</td>\n",
       "      <td>[]</td>\n",
       "      <td>fyi   i have not changes to suggest.  michael ...</td>\n",
       "    </tr>\n",
       "    <tr>\n",
       "      <th>2</th>\n",
       "      <td>2</td>\n",
       "      <td>Scheduled Maintenance &amp; Upgrade</td>\n",
       "      <td>it service desk  attn account user,  schedule...</td>\n",
       "      <td>1</td>\n",
       "      <td>tech.team@tech-center.com</td>\n",
       "      <td>[]</td>\n",
       "      <td>it service desk  attn account user,  schedule...</td>\n",
       "    </tr>\n",
       "    <tr>\n",
       "      <th>3</th>\n",
       "      <td>3</td>\n",
       "      <td>re: texas legislative oversight committee</td>\n",
       "      <td>b'i have spoken to mark, he will send a list o...</td>\n",
       "      <td>0</td>\n",
       "      <td>jean.ryall@enron.com</td>\n",
       "      <td>[]</td>\n",
       "      <td>i have spoken to mark, he will send a list of ...</td>\n",
       "    </tr>\n",
       "    <tr>\n",
       "      <th>4</th>\n",
       "      <td>4</td>\n",
       "      <td>correspondence from donn fullenweider</td>\n",
       "      <td>b'\\nsee attached correspondence from donn  ful...</td>\n",
       "      <td>0</td>\n",
       "      <td>jls@fullenweider.com</td>\n",
       "      <td>[]</td>\n",
       "      <td>see attached correspondence from donn  fullen...</td>\n",
       "    </tr>\n",
       "    <tr>\n",
       "      <th>...</th>\n",
       "      <td>...</td>\n",
       "      <td>...</td>\n",
       "      <td>...</td>\n",
       "      <td>...</td>\n",
       "      <td>...</td>\n",
       "      <td>...</td>\n",
       "      <td>...</td>\n",
       "    </tr>\n",
       "    <tr>\n",
       "      <th>10992</th>\n",
       "      <td>96</td>\n",
       "      <td>FW: [EXT]Invitation: Midcontinent Independent ...</td>\n",
       "      <td>-----Original Appointment-----  From...</td>\n",
       "      <td>0</td>\n",
       "      <td>AkcaliBra3136@ccac.sales.com</td>\n",
       "      <td>[https://walk.zoom.us, https://walk.zoom.us, h...</td>\n",
       "      <td>Original Appointment       From...</td>\n",
       "    </tr>\n",
       "    <tr>\n",
       "      <th>10993</th>\n",
       "      <td>97</td>\n",
       "      <td>RE: Feedback on my list</td>\n",
       "      <td>From: Osamah Achard &lt; &gt;   Sent: Frid...</td>\n",
       "      <td>0</td>\n",
       "      <td>AkcaliBra3136@ccac.sales.com</td>\n",
       "      <td>[http://www.ccac, http://twitter.com, http://w...</td>\n",
       "      <td>From: Osamah Achard &lt; &gt;   Sent: Frid...</td>\n",
       "    </tr>\n",
       "    <tr>\n",
       "      <th>10994</th>\n",
       "      <td>98</td>\n",
       "      <td>ccac sales</td>\n",
       "      <td>Hello,  There's an ongoing survey recruitment ...</td>\n",
       "      <td>1</td>\n",
       "      <td>AhluwaliaNor4933@ccac.sales.com</td>\n",
       "      <td>[https://docs.google.com]</td>\n",
       "      <td>Hello,  There s an ongoing survey recruitment ...</td>\n",
       "    </tr>\n",
       "    <tr>\n",
       "      <th>10995</th>\n",
       "      <td>99</td>\n",
       "      <td>Accepted: BMIS</td>\n",
       "      <td>nan</td>\n",
       "      <td>0</td>\n",
       "      <td>AkcaliBra3136@ccac.sales.com</td>\n",
       "      <td>[]</td>\n",
       "      <td>nan</td>\n",
       "    </tr>\n",
       "    <tr>\n",
       "      <th>10996</th>\n",
       "      <td>100</td>\n",
       "      <td>Activate Your Account</td>\n",
       "      <td>Your ccac sales Email security is still ...</td>\n",
       "      <td>0</td>\n",
       "      <td>vit-ans@uv.uio.no</td>\n",
       "      <td>[http://clinicadiss.com.br]</td>\n",
       "      <td>Your ccac sales Email security is still ...</td>\n",
       "    </tr>\n",
       "  </tbody>\n",
       "</table>\n",
       "<p>10997 rows × 7 columns</p>\n",
       "</div>\n",
       "      <button class=\"colab-df-convert\" onclick=\"convertToInteractive('df-d65a93d1-5996-4f72-a71d-1c3938753258')\"\n",
       "              title=\"Convert this dataframe to an interactive table.\"\n",
       "              style=\"display:none;\">\n",
       "        \n",
       "  <svg xmlns=\"http://www.w3.org/2000/svg\" height=\"24px\"viewBox=\"0 0 24 24\"\n",
       "       width=\"24px\">\n",
       "    <path d=\"M0 0h24v24H0V0z\" fill=\"none\"/>\n",
       "    <path d=\"M18.56 5.44l.94 2.06.94-2.06 2.06-.94-2.06-.94-.94-2.06-.94 2.06-2.06.94zm-11 1L8.5 8.5l.94-2.06 2.06-.94-2.06-.94L8.5 2.5l-.94 2.06-2.06.94zm10 10l.94 2.06.94-2.06 2.06-.94-2.06-.94-.94-2.06-.94 2.06-2.06.94z\"/><path d=\"M17.41 7.96l-1.37-1.37c-.4-.4-.92-.59-1.43-.59-.52 0-1.04.2-1.43.59L10.3 9.45l-7.72 7.72c-.78.78-.78 2.05 0 2.83L4 21.41c.39.39.9.59 1.41.59.51 0 1.02-.2 1.41-.59l7.78-7.78 2.81-2.81c.8-.78.8-2.07 0-2.86zM5.41 20L4 18.59l7.72-7.72 1.47 1.35L5.41 20z\"/>\n",
       "  </svg>\n",
       "      </button>\n",
       "      \n",
       "  <style>\n",
       "    .colab-df-container {\n",
       "      display:flex;\n",
       "      flex-wrap:wrap;\n",
       "      gap: 12px;\n",
       "    }\n",
       "\n",
       "    .colab-df-convert {\n",
       "      background-color: #E8F0FE;\n",
       "      border: none;\n",
       "      border-radius: 50%;\n",
       "      cursor: pointer;\n",
       "      display: none;\n",
       "      fill: #1967D2;\n",
       "      height: 32px;\n",
       "      padding: 0 0 0 0;\n",
       "      width: 32px;\n",
       "    }\n",
       "\n",
       "    .colab-df-convert:hover {\n",
       "      background-color: #E2EBFA;\n",
       "      box-shadow: 0px 1px 2px rgba(60, 64, 67, 0.3), 0px 1px 3px 1px rgba(60, 64, 67, 0.15);\n",
       "      fill: #174EA6;\n",
       "    }\n",
       "\n",
       "    [theme=dark] .colab-df-convert {\n",
       "      background-color: #3B4455;\n",
       "      fill: #D2E3FC;\n",
       "    }\n",
       "\n",
       "    [theme=dark] .colab-df-convert:hover {\n",
       "      background-color: #434B5C;\n",
       "      box-shadow: 0px 1px 3px 1px rgba(0, 0, 0, 0.15);\n",
       "      filter: drop-shadow(0px 1px 2px rgba(0, 0, 0, 0.3));\n",
       "      fill: #FFFFFF;\n",
       "    }\n",
       "  </style>\n",
       "\n",
       "      <script>\n",
       "        const buttonEl =\n",
       "          document.querySelector('#df-d65a93d1-5996-4f72-a71d-1c3938753258 button.colab-df-convert');\n",
       "        buttonEl.style.display =\n",
       "          google.colab.kernel.accessAllowed ? 'block' : 'none';\n",
       "\n",
       "        async function convertToInteractive(key) {\n",
       "          const element = document.querySelector('#df-d65a93d1-5996-4f72-a71d-1c3938753258');\n",
       "          const dataTable =\n",
       "            await google.colab.kernel.invokeFunction('convertToInteractive',\n",
       "                                                     [key], {});\n",
       "          if (!dataTable) return;\n",
       "\n",
       "          const docLinkHtml = 'Like what you see? Visit the ' +\n",
       "            '<a target=\"_blank\" href=https://colab.research.google.com/notebooks/data_table.ipynb>data table notebook</a>'\n",
       "            + ' to learn more about interactive tables.';\n",
       "          element.innerHTML = '';\n",
       "          dataTable['output_type'] = 'display_data';\n",
       "          await google.colab.output.renderOutput(dataTable, element);\n",
       "          const docLink = document.createElement('div');\n",
       "          docLink.innerHTML = docLinkHtml;\n",
       "          element.appendChild(docLink);\n",
       "        }\n",
       "      </script>\n",
       "    </div>\n",
       "  </div>\n",
       "  "
      ],
      "text/plain": [
       "       index  ...                                     clean_esc_body\n",
       "0          0  ...  continental.com specials for chris germany wed...\n",
       "1          1  ...  fyi   i have not changes to suggest.  michael ...\n",
       "2          2  ...   it service desk  attn account user,  schedule...\n",
       "3          3  ...  i have spoken to mark, he will send a list of ...\n",
       "4          4  ...   see attached correspondence from donn  fullen...\n",
       "...      ...  ...                                                ...\n",
       "10992     96  ...                 Original Appointment       From...\n",
       "10993     97  ...            From: Osamah Achard < >   Sent: Frid...\n",
       "10994     98  ...  Hello,  There s an ongoing survey recruitment ...\n",
       "10995     99  ...                                                nan\n",
       "10996    100  ...        Your ccac sales Email security is still ...\n",
       "\n",
       "[10997 rows x 7 columns]"
      ]
     },
     "execution_count": 21,
     "metadata": {},
     "output_type": "execute_result"
    }
   ],
   "source": [
    "train"
   ]
  },
  {
   "cell_type": "markdown",
   "metadata": {
    "id": "8F8uxUSh29L2"
   },
   "source": [
    "cleaned the escaped characters and removed the starting b"
   ]
  },
  {
   "cell_type": "markdown",
   "metadata": {
    "id": "bKo7YawZYXJq"
   },
   "source": [
    "### Extracting Domain Names"
   ]
  },
  {
   "cell_type": "code",
   "execution_count": null,
   "metadata": {
    "colab": {
     "base_uri": "https://localhost:8080/"
    },
    "id": "Rx1-E6o3Yxdy",
    "outputId": "83fe0b31-484b-494d-90ac-ad708b782ed8"
   },
   "outputs": [
    {
     "data": {
      "text/plain": [
       "index                   0\n",
       "Subject               284\n",
       "Body                    0\n",
       "Label                   0\n",
       "SenderEmailAddress     15\n",
       "url                     0\n",
       "clean_esc_body          0\n",
       "dtype: int64"
      ]
     },
     "execution_count": 22,
     "metadata": {},
     "output_type": "execute_result"
    }
   ],
   "source": [
    "train.isna().sum()"
   ]
  },
  {
   "cell_type": "markdown",
   "metadata": {
    "id": "yAm5k5VKY4JY"
   },
   "source": [
    "Dropping where there is no sender name"
   ]
  },
  {
   "cell_type": "code",
   "execution_count": null,
   "metadata": {
    "id": "EoozZZIwY3S8"
   },
   "outputs": [],
   "source": [
    "null_from_index = train.loc[train['SenderEmailAddress'].isnull() == True].index\n",
    "train.drop(null_from_index, axis = 0, inplace = True)"
   ]
  },
  {
   "cell_type": "markdown",
   "metadata": {
    "id": "PdApIyXCbK8i"
   },
   "source": [
    "### Domain List"
   ]
  },
  {
   "cell_type": "code",
   "execution_count": null,
   "metadata": {
    "id": "ePPKNQ5NYaY-"
   },
   "outputs": [],
   "source": [
    "def extract_domain(string):\n",
    "    domain = str(string).split('@')[1].split('.')[0]\n",
    "    return domain\n",
    "# returns the sub-domain. split by @ and get the part after the '@'.   \n",
    "# next split returns the part before the '.' which gives us the subdomain.\n",
    "# eg meboin@iu.edu will give us first iu.edu after splitting at @. then iu after splitting at ."
   ]
  },
  {
   "cell_type": "code",
   "execution_count": null,
   "metadata": {
    "id": "hwfer5GsYahC"
   },
   "outputs": [],
   "source": [
    "domain_list = []\n",
    "for email in train['SenderEmailAddress']:\n",
    "    try:\n",
    "        email_domain = extract_domain(email)\n",
    "        domain_list.append(email_domain)\n",
    "    except:\n",
    "        print(\"Row that throws error is:\")\n",
    "        print(train[email])"
   ]
  },
  {
   "cell_type": "code",
   "execution_count": null,
   "metadata": {
    "id": "xcvARZzyYakJ"
   },
   "outputs": [],
   "source": [
    "train['Domain_from']=domain_list"
   ]
  },
  {
   "cell_type": "code",
   "execution_count": null,
   "metadata": {
    "colab": {
     "base_uri": "https://localhost:8080/",
     "height": 852
    },
    "id": "bxbGmX5cYamf",
    "outputId": "40776085-e8a1-487d-d09a-2766e1cc6cc3"
   },
   "outputs": [
    {
     "data": {
      "text/html": [
       "\n",
       "  <div id=\"df-2e0e107d-f65a-4b95-a616-786db598f2f4\">\n",
       "    <div class=\"colab-df-container\">\n",
       "      <div>\n",
       "<style scoped>\n",
       "    .dataframe tbody tr th:only-of-type {\n",
       "        vertical-align: middle;\n",
       "    }\n",
       "\n",
       "    .dataframe tbody tr th {\n",
       "        vertical-align: top;\n",
       "    }\n",
       "\n",
       "    .dataframe thead th {\n",
       "        text-align: right;\n",
       "    }\n",
       "</style>\n",
       "<table border=\"1\" class=\"dataframe\">\n",
       "  <thead>\n",
       "    <tr style=\"text-align: right;\">\n",
       "      <th></th>\n",
       "      <th>index</th>\n",
       "      <th>Subject</th>\n",
       "      <th>Body</th>\n",
       "      <th>Label</th>\n",
       "      <th>SenderEmailAddress</th>\n",
       "      <th>url</th>\n",
       "      <th>clean_esc_body</th>\n",
       "      <th>Domain_from</th>\n",
       "    </tr>\n",
       "  </thead>\n",
       "  <tbody>\n",
       "    <tr>\n",
       "      <th>0</th>\n",
       "      <td>0</td>\n",
       "      <td>continental.com specials for chris germany</td>\n",
       "      <td>b\"continental.com specials for chris germany\\n...</td>\n",
       "      <td>0</td>\n",
       "      <td>continental_airlines_inc@coair.rsc01.com</td>\n",
       "      <td>[http://continentalairlines.rsc01.net, http://...</td>\n",
       "      <td>continental.com specials for chris germany wed...</td>\n",
       "      <td>coair</td>\n",
       "    </tr>\n",
       "    <tr>\n",
       "      <th>1</th>\n",
       "      <td>1</td>\n",
       "      <td>re: rebuttal testimony (draft) on behalf of tw</td>\n",
       "      <td>b\"fyi - i have not changes to suggest.\\n\\nmich...</td>\n",
       "      <td>0</td>\n",
       "      <td>alexanms@sce.com</td>\n",
       "      <td>[]</td>\n",
       "      <td>fyi   i have not changes to suggest.  michael ...</td>\n",
       "      <td>sce</td>\n",
       "    </tr>\n",
       "    <tr>\n",
       "      <th>2</th>\n",
       "      <td>2</td>\n",
       "      <td>Scheduled Maintenance &amp; Upgrade</td>\n",
       "      <td>it service desk  attn account user,  schedule...</td>\n",
       "      <td>1</td>\n",
       "      <td>tech.team@tech-center.com</td>\n",
       "      <td>[]</td>\n",
       "      <td>it service desk  attn account user,  schedule...</td>\n",
       "      <td>tech-center</td>\n",
       "    </tr>\n",
       "    <tr>\n",
       "      <th>3</th>\n",
       "      <td>3</td>\n",
       "      <td>re: texas legislative oversight committee</td>\n",
       "      <td>b'i have spoken to mark, he will send a list o...</td>\n",
       "      <td>0</td>\n",
       "      <td>jean.ryall@enron.com</td>\n",
       "      <td>[]</td>\n",
       "      <td>i have spoken to mark, he will send a list of ...</td>\n",
       "      <td>enron</td>\n",
       "    </tr>\n",
       "    <tr>\n",
       "      <th>4</th>\n",
       "      <td>4</td>\n",
       "      <td>correspondence from donn fullenweider</td>\n",
       "      <td>b'\\nsee attached correspondence from donn  ful...</td>\n",
       "      <td>0</td>\n",
       "      <td>jls@fullenweider.com</td>\n",
       "      <td>[]</td>\n",
       "      <td>see attached correspondence from donn  fullen...</td>\n",
       "      <td>fullenweider</td>\n",
       "    </tr>\n",
       "    <tr>\n",
       "      <th>...</th>\n",
       "      <td>...</td>\n",
       "      <td>...</td>\n",
       "      <td>...</td>\n",
       "      <td>...</td>\n",
       "      <td>...</td>\n",
       "      <td>...</td>\n",
       "      <td>...</td>\n",
       "      <td>...</td>\n",
       "    </tr>\n",
       "    <tr>\n",
       "      <th>10992</th>\n",
       "      <td>96</td>\n",
       "      <td>FW: [EXT]Invitation: Midcontinent Independent ...</td>\n",
       "      <td>-----Original Appointment-----  From...</td>\n",
       "      <td>0</td>\n",
       "      <td>AkcaliBra3136@ccac.sales.com</td>\n",
       "      <td>[https://walk.zoom.us, https://walk.zoom.us, h...</td>\n",
       "      <td>Original Appointment       From...</td>\n",
       "      <td>ccac</td>\n",
       "    </tr>\n",
       "    <tr>\n",
       "      <th>10993</th>\n",
       "      <td>97</td>\n",
       "      <td>RE: Feedback on my list</td>\n",
       "      <td>From: Osamah Achard &lt; &gt;   Sent: Frid...</td>\n",
       "      <td>0</td>\n",
       "      <td>AkcaliBra3136@ccac.sales.com</td>\n",
       "      <td>[http://www.ccac, http://twitter.com, http://w...</td>\n",
       "      <td>From: Osamah Achard &lt; &gt;   Sent: Frid...</td>\n",
       "      <td>ccac</td>\n",
       "    </tr>\n",
       "    <tr>\n",
       "      <th>10994</th>\n",
       "      <td>98</td>\n",
       "      <td>ccac sales</td>\n",
       "      <td>Hello,  There's an ongoing survey recruitment ...</td>\n",
       "      <td>1</td>\n",
       "      <td>AhluwaliaNor4933@ccac.sales.com</td>\n",
       "      <td>[https://docs.google.com]</td>\n",
       "      <td>Hello,  There s an ongoing survey recruitment ...</td>\n",
       "      <td>ccac</td>\n",
       "    </tr>\n",
       "    <tr>\n",
       "      <th>10995</th>\n",
       "      <td>99</td>\n",
       "      <td>Accepted: BMIS</td>\n",
       "      <td>nan</td>\n",
       "      <td>0</td>\n",
       "      <td>AkcaliBra3136@ccac.sales.com</td>\n",
       "      <td>[]</td>\n",
       "      <td>nan</td>\n",
       "      <td>ccac</td>\n",
       "    </tr>\n",
       "    <tr>\n",
       "      <th>10996</th>\n",
       "      <td>100</td>\n",
       "      <td>Activate Your Account</td>\n",
       "      <td>Your ccac sales Email security is still ...</td>\n",
       "      <td>0</td>\n",
       "      <td>vit-ans@uv.uio.no</td>\n",
       "      <td>[http://clinicadiss.com.br]</td>\n",
       "      <td>Your ccac sales Email security is still ...</td>\n",
       "      <td>uv</td>\n",
       "    </tr>\n",
       "  </tbody>\n",
       "</table>\n",
       "<p>10982 rows × 8 columns</p>\n",
       "</div>\n",
       "      <button class=\"colab-df-convert\" onclick=\"convertToInteractive('df-2e0e107d-f65a-4b95-a616-786db598f2f4')\"\n",
       "              title=\"Convert this dataframe to an interactive table.\"\n",
       "              style=\"display:none;\">\n",
       "        \n",
       "  <svg xmlns=\"http://www.w3.org/2000/svg\" height=\"24px\"viewBox=\"0 0 24 24\"\n",
       "       width=\"24px\">\n",
       "    <path d=\"M0 0h24v24H0V0z\" fill=\"none\"/>\n",
       "    <path d=\"M18.56 5.44l.94 2.06.94-2.06 2.06-.94-2.06-.94-.94-2.06-.94 2.06-2.06.94zm-11 1L8.5 8.5l.94-2.06 2.06-.94-2.06-.94L8.5 2.5l-.94 2.06-2.06.94zm10 10l.94 2.06.94-2.06 2.06-.94-2.06-.94-.94-2.06-.94 2.06-2.06.94z\"/><path d=\"M17.41 7.96l-1.37-1.37c-.4-.4-.92-.59-1.43-.59-.52 0-1.04.2-1.43.59L10.3 9.45l-7.72 7.72c-.78.78-.78 2.05 0 2.83L4 21.41c.39.39.9.59 1.41.59.51 0 1.02-.2 1.41-.59l7.78-7.78 2.81-2.81c.8-.78.8-2.07 0-2.86zM5.41 20L4 18.59l7.72-7.72 1.47 1.35L5.41 20z\"/>\n",
       "  </svg>\n",
       "      </button>\n",
       "      \n",
       "  <style>\n",
       "    .colab-df-container {\n",
       "      display:flex;\n",
       "      flex-wrap:wrap;\n",
       "      gap: 12px;\n",
       "    }\n",
       "\n",
       "    .colab-df-convert {\n",
       "      background-color: #E8F0FE;\n",
       "      border: none;\n",
       "      border-radius: 50%;\n",
       "      cursor: pointer;\n",
       "      display: none;\n",
       "      fill: #1967D2;\n",
       "      height: 32px;\n",
       "      padding: 0 0 0 0;\n",
       "      width: 32px;\n",
       "    }\n",
       "\n",
       "    .colab-df-convert:hover {\n",
       "      background-color: #E2EBFA;\n",
       "      box-shadow: 0px 1px 2px rgba(60, 64, 67, 0.3), 0px 1px 3px 1px rgba(60, 64, 67, 0.15);\n",
       "      fill: #174EA6;\n",
       "    }\n",
       "\n",
       "    [theme=dark] .colab-df-convert {\n",
       "      background-color: #3B4455;\n",
       "      fill: #D2E3FC;\n",
       "    }\n",
       "\n",
       "    [theme=dark] .colab-df-convert:hover {\n",
       "      background-color: #434B5C;\n",
       "      box-shadow: 0px 1px 3px 1px rgba(0, 0, 0, 0.15);\n",
       "      filter: drop-shadow(0px 1px 2px rgba(0, 0, 0, 0.3));\n",
       "      fill: #FFFFFF;\n",
       "    }\n",
       "  </style>\n",
       "\n",
       "      <script>\n",
       "        const buttonEl =\n",
       "          document.querySelector('#df-2e0e107d-f65a-4b95-a616-786db598f2f4 button.colab-df-convert');\n",
       "        buttonEl.style.display =\n",
       "          google.colab.kernel.accessAllowed ? 'block' : 'none';\n",
       "\n",
       "        async function convertToInteractive(key) {\n",
       "          const element = document.querySelector('#df-2e0e107d-f65a-4b95-a616-786db598f2f4');\n",
       "          const dataTable =\n",
       "            await google.colab.kernel.invokeFunction('convertToInteractive',\n",
       "                                                     [key], {});\n",
       "          if (!dataTable) return;\n",
       "\n",
       "          const docLinkHtml = 'Like what you see? Visit the ' +\n",
       "            '<a target=\"_blank\" href=https://colab.research.google.com/notebooks/data_table.ipynb>data table notebook</a>'\n",
       "            + ' to learn more about interactive tables.';\n",
       "          element.innerHTML = '';\n",
       "          dataTable['output_type'] = 'display_data';\n",
       "          await google.colab.output.renderOutput(dataTable, element);\n",
       "          const docLink = document.createElement('div');\n",
       "          docLink.innerHTML = docLinkHtml;\n",
       "          element.appendChild(docLink);\n",
       "        }\n",
       "      </script>\n",
       "    </div>\n",
       "  </div>\n",
       "  "
      ],
      "text/plain": [
       "       index  ...   Domain_from\n",
       "0          0  ...         coair\n",
       "1          1  ...           sce\n",
       "2          2  ...   tech-center\n",
       "3          3  ...         enron\n",
       "4          4  ...  fullenweider\n",
       "...      ...  ...           ...\n",
       "10992     96  ...          ccac\n",
       "10993     97  ...          ccac\n",
       "10994     98  ...          ccac\n",
       "10995     99  ...          ccac\n",
       "10996    100  ...            uv\n",
       "\n",
       "[10982 rows x 8 columns]"
      ]
     },
     "execution_count": 27,
     "metadata": {},
     "output_type": "execute_result"
    }
   ],
   "source": [
    "train"
   ]
  },
  {
   "cell_type": "markdown",
   "metadata": {
    "id": "192Am6Jmh-fg"
   },
   "source": [
    "### Extracting the Subject Labels\n",
    "\n"
   ]
  },
  {
   "cell_type": "code",
   "execution_count": null,
   "metadata": {
    "colab": {
     "base_uri": "https://localhost:8080/"
    },
    "id": "qzMMPm-Pz43J",
    "outputId": "6a08df59-d86c-46b1-f4b5-808691289727"
   },
   "outputs": [
    {
     "data": {
      "text/plain": [
       "('jkahjsndjkasd', 3)"
      ]
     },
     "execution_count": 30,
     "metadata": {},
     "output_type": "execute_result"
    }
   ],
   "source": [
    "import re\n",
    "def remove_prefix(sub):\n",
    "  pref_encoding=[]\n",
    "  sub=sub.strip().lower()\n",
    "  l=len(sub)\n",
    "  x1=re.search('^re:',sub)\n",
    "  #matching at the start of the string\n",
    "  if x1!=None:\n",
    "    label=1\n",
    "    sub=sub[3:].strip()\n",
    "    #splitting the string after the're'\n",
    "    while True:# while loop to strip other labels if found since re can be suffixed with other labels\n",
    "      if (re.search('^re:',sub)!=None):\n",
    "        sub=sub[3:].strip()\n",
    "        continue\n",
    "      elif (re.search('^fw:',sub)!=None):\n",
    "        sub=sub[3:].strip()\n",
    "        continue\n",
    "      elif (re.search('^[ext]',sub)!=None):\n",
    "        sub=sub[5:].strip()\n",
    "        continue\n",
    "      elif (re.search('^[bulk]',sub)!=None):\n",
    "        sub=sub[6:].strip()\n",
    "        continue\n",
    "      else:\n",
    "        return sub,label\n",
    "        break\n",
    "  elif (re.search('^fw:',sub)!=None): # if first label found is forwarded then give label 2\n",
    "    label=2\n",
    "    sub=sub[3:].strip()\n",
    "    while True: # proceeding with removing all other labels\n",
    "      if (re.search('^re:',sub)!=None):\n",
    "        sub=sub[3:].strip()\n",
    "        continue\n",
    "      elif (re.search('^fw:',sub)!=None):\n",
    "        sub=sub[3:].strip()\n",
    "        continue\n",
    "      elif (re.search('^[ext]',sub)!=None):\n",
    "        sub=sub[5:].strip()\n",
    "        continue\n",
    "      elif (re.search('^[bulk]',sub)!=None):\n",
    "        sub=sub[6:].strip()\n",
    "        continue\n",
    "      else:\n",
    "        return sub,label\n",
    "        break\n",
    "  elif (re.search('^\\[ext]',sub)!=None):\n",
    "    label=3\n",
    "    sub=sub[5:].strip()\n",
    "    while True:\n",
    "      if (re.search('^re:',sub)!=None):\n",
    "        sub=sub[3:].strip()\n",
    "        continue\n",
    "      elif (re.search('^fw:',sub)!=None):\n",
    "        sub=sub[3:].strip()\n",
    "        continue\n",
    "      elif (re.search('^[ext]',sub)!=None):\n",
    "        sub=sub[5:].strip()\n",
    "        continue\n",
    "      elif (re.search('^[bulk]',sub)!=None):\n",
    "        sub=sub[6:].strip()\n",
    "        continue\n",
    "      else:\n",
    "        return sub,label\n",
    "        break\n",
    "  else:\n",
    "    label=0 # for all the cases give 0\n",
    "    return sub,label\n",
    "    \n",
    "\n",
    "remove_prefix(\" [ext]re: jkahjsndjkasd\")"
   ]
  },
  {
   "cell_type": "code",
   "execution_count": null,
   "metadata": {
    "id": "wrlfwQMnz47-"
   },
   "outputs": [],
   "source": [
    "clean_subject=[]\n",
    "sub_pref_label=[]\n",
    "for i in range(len(train)):\n",
    "  \n",
    "  x=str(train.iloc[i]['Subject'])\n",
    "  a,b=remove_prefix(x)\n",
    "  clean_subject.append(a)\n",
    "  sub_pref_label.append(b)"
   ]
  },
  {
   "cell_type": "code",
   "execution_count": null,
   "metadata": {
    "id": "Zv-zlBjb445t"
   },
   "outputs": [],
   "source": [
    "train['clean_subject']=clean_subject\n",
    "train['sub_pref_label']=sub_pref_label"
   ]
  },
  {
   "cell_type": "code",
   "execution_count": null,
   "metadata": {
    "colab": {
     "base_uri": "https://localhost:8080/"
    },
    "id": "Wti_PaHq48-8",
    "outputId": "78233111-a3db-4c23-9c51-e2ad33d72dec"
   },
   "outputs": [
    {
     "data": {
      "text/plain": [
       "0    7980\n",
       "1    2473\n",
       "2     515\n",
       "3      14\n",
       "Name: sub_pref_label, dtype: int64"
      ]
     },
     "execution_count": 33,
     "metadata": {},
     "output_type": "execute_result"
    }
   ],
   "source": [
    "train['sub_pref_label'].value_counts()"
   ]
  },
  {
   "cell_type": "markdown",
   "metadata": {
    "id": "fhJI-3Q55K-M"
   },
   "source": [
    "### one hot encoding subject prefix column"
   ]
  },
  {
   "cell_type": "code",
   "execution_count": null,
   "metadata": {
    "id": "zpIYBoIt5KVm"
   },
   "outputs": [],
   "source": [
    "train=pd.get_dummies(train,columns=['sub_pref_label'])\n",
    "# to perform one hot encoding"
   ]
  },
  {
   "cell_type": "code",
   "execution_count": null,
   "metadata": {
    "colab": {
     "base_uri": "https://localhost:8080/",
     "height": 852
    },
    "id": "VDHAFhZQ5s-2",
    "outputId": "9660eae4-5c60-45d8-9129-e51a24fff36a"
   },
   "outputs": [
    {
     "data": {
      "text/html": [
       "\n",
       "  <div id=\"df-0e43b0a0-775f-4e33-9f2c-4a6716b76902\">\n",
       "    <div class=\"colab-df-container\">\n",
       "      <div>\n",
       "<style scoped>\n",
       "    .dataframe tbody tr th:only-of-type {\n",
       "        vertical-align: middle;\n",
       "    }\n",
       "\n",
       "    .dataframe tbody tr th {\n",
       "        vertical-align: top;\n",
       "    }\n",
       "\n",
       "    .dataframe thead th {\n",
       "        text-align: right;\n",
       "    }\n",
       "</style>\n",
       "<table border=\"1\" class=\"dataframe\">\n",
       "  <thead>\n",
       "    <tr style=\"text-align: right;\">\n",
       "      <th></th>\n",
       "      <th>Subject</th>\n",
       "      <th>Body</th>\n",
       "      <th>Label</th>\n",
       "      <th>SenderEmailAddress</th>\n",
       "      <th>url</th>\n",
       "      <th>clean_esc_body</th>\n",
       "      <th>Domain_from</th>\n",
       "      <th>clean_subject</th>\n",
       "      <th>sub_pref_label_0</th>\n",
       "      <th>sub_pref_label_1</th>\n",
       "      <th>sub_pref_label_2</th>\n",
       "      <th>sub_pref_label_3</th>\n",
       "    </tr>\n",
       "  </thead>\n",
       "  <tbody>\n",
       "    <tr>\n",
       "      <th>0</th>\n",
       "      <td>continental.com specials for chris germany</td>\n",
       "      <td>b\"continental.com specials for chris germany\\n...</td>\n",
       "      <td>0</td>\n",
       "      <td>continental_airlines_inc@coair.rsc01.com</td>\n",
       "      <td>[http://continentalairlines.rsc01.net, http://...</td>\n",
       "      <td>continental.com specials for chris germany wed...</td>\n",
       "      <td>coair</td>\n",
       "      <td>continental.com specials for chris germany</td>\n",
       "      <td>1</td>\n",
       "      <td>0</td>\n",
       "      <td>0</td>\n",
       "      <td>0</td>\n",
       "    </tr>\n",
       "    <tr>\n",
       "      <th>1</th>\n",
       "      <td>re: rebuttal testimony (draft) on behalf of tw</td>\n",
       "      <td>b\"fyi - i have not changes to suggest.\\n\\nmich...</td>\n",
       "      <td>0</td>\n",
       "      <td>alexanms@sce.com</td>\n",
       "      <td>[]</td>\n",
       "      <td>fyi   i have not changes to suggest.  michael ...</td>\n",
       "      <td>sce</td>\n",
       "      <td>rebuttal testimony (draft) on behalf of tw</td>\n",
       "      <td>0</td>\n",
       "      <td>1</td>\n",
       "      <td>0</td>\n",
       "      <td>0</td>\n",
       "    </tr>\n",
       "    <tr>\n",
       "      <th>2</th>\n",
       "      <td>Scheduled Maintenance &amp; Upgrade</td>\n",
       "      <td>it service desk  attn account user,  schedule...</td>\n",
       "      <td>1</td>\n",
       "      <td>tech.team@tech-center.com</td>\n",
       "      <td>[]</td>\n",
       "      <td>it service desk  attn account user,  schedule...</td>\n",
       "      <td>tech-center</td>\n",
       "      <td>scheduled maintenance &amp; upgrade</td>\n",
       "      <td>1</td>\n",
       "      <td>0</td>\n",
       "      <td>0</td>\n",
       "      <td>0</td>\n",
       "    </tr>\n",
       "    <tr>\n",
       "      <th>3</th>\n",
       "      <td>re: texas legislative oversight committee</td>\n",
       "      <td>b'i have spoken to mark, he will send a list o...</td>\n",
       "      <td>0</td>\n",
       "      <td>jean.ryall@enron.com</td>\n",
       "      <td>[]</td>\n",
       "      <td>i have spoken to mark, he will send a list of ...</td>\n",
       "      <td>enron</td>\n",
       "      <td>ative oversight committee</td>\n",
       "      <td>0</td>\n",
       "      <td>1</td>\n",
       "      <td>0</td>\n",
       "      <td>0</td>\n",
       "    </tr>\n",
       "    <tr>\n",
       "      <th>4</th>\n",
       "      <td>correspondence from donn fullenweider</td>\n",
       "      <td>b'\\nsee attached correspondence from donn  ful...</td>\n",
       "      <td>0</td>\n",
       "      <td>jls@fullenweider.com</td>\n",
       "      <td>[]</td>\n",
       "      <td>see attached correspondence from donn  fullen...</td>\n",
       "      <td>fullenweider</td>\n",
       "      <td>correspondence from donn fullenweider</td>\n",
       "      <td>1</td>\n",
       "      <td>0</td>\n",
       "      <td>0</td>\n",
       "      <td>0</td>\n",
       "    </tr>\n",
       "    <tr>\n",
       "      <th>...</th>\n",
       "      <td>...</td>\n",
       "      <td>...</td>\n",
       "      <td>...</td>\n",
       "      <td>...</td>\n",
       "      <td>...</td>\n",
       "      <td>...</td>\n",
       "      <td>...</td>\n",
       "      <td>...</td>\n",
       "      <td>...</td>\n",
       "      <td>...</td>\n",
       "      <td>...</td>\n",
       "      <td>...</td>\n",
       "    </tr>\n",
       "    <tr>\n",
       "      <th>10992</th>\n",
       "      <td>FW: [EXT]Invitation: Midcontinent Independent ...</td>\n",
       "      <td>-----Original Appointment-----  From...</td>\n",
       "      <td>0</td>\n",
       "      <td>AkcaliBra3136@ccac.sales.com</td>\n",
       "      <td>[https://walk.zoom.us, https://walk.zoom.us, h...</td>\n",
       "      <td>Original Appointment       From...</td>\n",
       "      <td>ccac</td>\n",
       "      <td>[ext]invitation: midcontinent independent syst...</td>\n",
       "      <td>0</td>\n",
       "      <td>0</td>\n",
       "      <td>1</td>\n",
       "      <td>0</td>\n",
       "    </tr>\n",
       "    <tr>\n",
       "      <th>10993</th>\n",
       "      <td>RE: Feedback on my list</td>\n",
       "      <td>From: Osamah Achard &lt; &gt;   Sent: Frid...</td>\n",
       "      <td>0</td>\n",
       "      <td>AkcaliBra3136@ccac.sales.com</td>\n",
       "      <td>[http://www.ccac, http://twitter.com, http://w...</td>\n",
       "      <td>From: Osamah Achard &lt; &gt;   Sent: Frid...</td>\n",
       "      <td>ccac</td>\n",
       "      <td>feedback on my list</td>\n",
       "      <td>0</td>\n",
       "      <td>1</td>\n",
       "      <td>0</td>\n",
       "      <td>0</td>\n",
       "    </tr>\n",
       "    <tr>\n",
       "      <th>10994</th>\n",
       "      <td>ccac sales</td>\n",
       "      <td>Hello,  There's an ongoing survey recruitment ...</td>\n",
       "      <td>1</td>\n",
       "      <td>AhluwaliaNor4933@ccac.sales.com</td>\n",
       "      <td>[https://docs.google.com]</td>\n",
       "      <td>Hello,  There s an ongoing survey recruitment ...</td>\n",
       "      <td>ccac</td>\n",
       "      <td>ccac sales</td>\n",
       "      <td>1</td>\n",
       "      <td>0</td>\n",
       "      <td>0</td>\n",
       "      <td>0</td>\n",
       "    </tr>\n",
       "    <tr>\n",
       "      <th>10995</th>\n",
       "      <td>Accepted: BMIS</td>\n",
       "      <td>nan</td>\n",
       "      <td>0</td>\n",
       "      <td>AkcaliBra3136@ccac.sales.com</td>\n",
       "      <td>[]</td>\n",
       "      <td>nan</td>\n",
       "      <td>ccac</td>\n",
       "      <td>accepted: bmis</td>\n",
       "      <td>1</td>\n",
       "      <td>0</td>\n",
       "      <td>0</td>\n",
       "      <td>0</td>\n",
       "    </tr>\n",
       "    <tr>\n",
       "      <th>10996</th>\n",
       "      <td>Activate Your Account</td>\n",
       "      <td>Your ccac sales Email security is still ...</td>\n",
       "      <td>0</td>\n",
       "      <td>vit-ans@uv.uio.no</td>\n",
       "      <td>[http://clinicadiss.com.br]</td>\n",
       "      <td>Your ccac sales Email security is still ...</td>\n",
       "      <td>uv</td>\n",
       "      <td>activate your account</td>\n",
       "      <td>1</td>\n",
       "      <td>0</td>\n",
       "      <td>0</td>\n",
       "      <td>0</td>\n",
       "    </tr>\n",
       "  </tbody>\n",
       "</table>\n",
       "<p>10982 rows × 12 columns</p>\n",
       "</div>\n",
       "      <button class=\"colab-df-convert\" onclick=\"convertToInteractive('df-0e43b0a0-775f-4e33-9f2c-4a6716b76902')\"\n",
       "              title=\"Convert this dataframe to an interactive table.\"\n",
       "              style=\"display:none;\">\n",
       "        \n",
       "  <svg xmlns=\"http://www.w3.org/2000/svg\" height=\"24px\"viewBox=\"0 0 24 24\"\n",
       "       width=\"24px\">\n",
       "    <path d=\"M0 0h24v24H0V0z\" fill=\"none\"/>\n",
       "    <path d=\"M18.56 5.44l.94 2.06.94-2.06 2.06-.94-2.06-.94-.94-2.06-.94 2.06-2.06.94zm-11 1L8.5 8.5l.94-2.06 2.06-.94-2.06-.94L8.5 2.5l-.94 2.06-2.06.94zm10 10l.94 2.06.94-2.06 2.06-.94-2.06-.94-.94-2.06-.94 2.06-2.06.94z\"/><path d=\"M17.41 7.96l-1.37-1.37c-.4-.4-.92-.59-1.43-.59-.52 0-1.04.2-1.43.59L10.3 9.45l-7.72 7.72c-.78.78-.78 2.05 0 2.83L4 21.41c.39.39.9.59 1.41.59.51 0 1.02-.2 1.41-.59l7.78-7.78 2.81-2.81c.8-.78.8-2.07 0-2.86zM5.41 20L4 18.59l7.72-7.72 1.47 1.35L5.41 20z\"/>\n",
       "  </svg>\n",
       "      </button>\n",
       "      \n",
       "  <style>\n",
       "    .colab-df-container {\n",
       "      display:flex;\n",
       "      flex-wrap:wrap;\n",
       "      gap: 12px;\n",
       "    }\n",
       "\n",
       "    .colab-df-convert {\n",
       "      background-color: #E8F0FE;\n",
       "      border: none;\n",
       "      border-radius: 50%;\n",
       "      cursor: pointer;\n",
       "      display: none;\n",
       "      fill: #1967D2;\n",
       "      height: 32px;\n",
       "      padding: 0 0 0 0;\n",
       "      width: 32px;\n",
       "    }\n",
       "\n",
       "    .colab-df-convert:hover {\n",
       "      background-color: #E2EBFA;\n",
       "      box-shadow: 0px 1px 2px rgba(60, 64, 67, 0.3), 0px 1px 3px 1px rgba(60, 64, 67, 0.15);\n",
       "      fill: #174EA6;\n",
       "    }\n",
       "\n",
       "    [theme=dark] .colab-df-convert {\n",
       "      background-color: #3B4455;\n",
       "      fill: #D2E3FC;\n",
       "    }\n",
       "\n",
       "    [theme=dark] .colab-df-convert:hover {\n",
       "      background-color: #434B5C;\n",
       "      box-shadow: 0px 1px 3px 1px rgba(0, 0, 0, 0.15);\n",
       "      filter: drop-shadow(0px 1px 2px rgba(0, 0, 0, 0.3));\n",
       "      fill: #FFFFFF;\n",
       "    }\n",
       "  </style>\n",
       "\n",
       "      <script>\n",
       "        const buttonEl =\n",
       "          document.querySelector('#df-0e43b0a0-775f-4e33-9f2c-4a6716b76902 button.colab-df-convert');\n",
       "        buttonEl.style.display =\n",
       "          google.colab.kernel.accessAllowed ? 'block' : 'none';\n",
       "\n",
       "        async function convertToInteractive(key) {\n",
       "          const element = document.querySelector('#df-0e43b0a0-775f-4e33-9f2c-4a6716b76902');\n",
       "          const dataTable =\n",
       "            await google.colab.kernel.invokeFunction('convertToInteractive',\n",
       "                                                     [key], {});\n",
       "          if (!dataTable) return;\n",
       "\n",
       "          const docLinkHtml = 'Like what you see? Visit the ' +\n",
       "            '<a target=\"_blank\" href=https://colab.research.google.com/notebooks/data_table.ipynb>data table notebook</a>'\n",
       "            + ' to learn more about interactive tables.';\n",
       "          element.innerHTML = '';\n",
       "          dataTable['output_type'] = 'display_data';\n",
       "          await google.colab.output.renderOutput(dataTable, element);\n",
       "          const docLink = document.createElement('div');\n",
       "          docLink.innerHTML = docLinkHtml;\n",
       "          element.appendChild(docLink);\n",
       "        }\n",
       "      </script>\n",
       "    </div>\n",
       "  </div>\n",
       "  "
      ],
      "text/plain": [
       "                                                 Subject  ... sub_pref_label_3\n",
       "0             continental.com specials for chris germany  ...                0\n",
       "1         re: rebuttal testimony (draft) on behalf of tw  ...                0\n",
       "2                        Scheduled Maintenance & Upgrade  ...                0\n",
       "3              re: texas legislative oversight committee  ...                0\n",
       "4                  correspondence from donn fullenweider  ...                0\n",
       "...                                                  ...  ...              ...\n",
       "10992  FW: [EXT]Invitation: Midcontinent Independent ...  ...                0\n",
       "10993                            RE: Feedback on my list  ...                0\n",
       "10994                                         ccac sales  ...                0\n",
       "10995                                     Accepted: BMIS  ...                0\n",
       "10996                              Activate Your Account  ...                0\n",
       "\n",
       "[10982 rows x 12 columns]"
      ]
     },
     "execution_count": 35,
     "metadata": {},
     "output_type": "execute_result"
    }
   ],
   "source": [
    "train"
   ]
  },
  {
   "cell_type": "markdown",
   "metadata": {
    "id": "dbb1aOHI7su4"
   },
   "source": [
    "#Saving train preprocessed to csv"
   ]
  },
  {
   "cell_type": "code",
   "execution_count": null,
   "metadata": {
    "id": "oYp97oc77wO1"
   },
   "outputs": [],
   "source": [
    "train.to_csv(\"train_preprocessed.csv\")"
   ]
  },
  {
   "cell_type": "markdown",
   "metadata": {
    "id": "0znBhRAk6dwc"
   },
   "source": [
    "### Same Pipeline on testing data"
   ]
  },
  {
   "cell_type": "code",
   "execution_count": null,
   "metadata": {
    "id": "NEc8uHtE6j0g"
   },
   "outputs": [],
   "source": [
    "test=pd.read_csv(\"/content/CCAC_data.csv\")"
   ]
  },
  {
   "cell_type": "code",
   "execution_count": null,
   "metadata": {
    "id": "mhJcuVe864T4"
   },
   "outputs": [],
   "source": [
    "test=test[['SenderEmailAddress','Subject','Body']]"
   ]
  },
  {
   "cell_type": "code",
   "execution_count": null,
   "metadata": {
    "id": "JYFOj_2Z6kBK"
   },
   "outputs": [],
   "source": [
    "url_list = []\n",
    "for i in range(len(test)):\n",
    "    text=str(test['Body'][i])\n",
    "    urls=extract_url(text)\n",
    "    url_list.append(urls)\n",
    "test['url']=url_list"
   ]
  },
  {
   "cell_type": "code",
   "execution_count": null,
   "metadata": {
    "colab": {
     "base_uri": "https://localhost:8080/"
    },
    "id": "UzBTpUGl6kDi",
    "outputId": "c5bc483a-02c6-47ce-9885-9e9d3184c8a6"
   },
   "outputs": [
    {
     "name": "stderr",
     "output_type": "stream",
     "text": [
      "/usr/local/lib/python3.7/dist-packages/ipykernel_launcher.py:1: SettingWithCopyWarning: \n",
      "A value is trying to be set on a copy of a slice from a DataFrame.\n",
      "Try using .loc[row_indexer,col_indexer] = value instead\n",
      "\n",
      "See the caveats in the documentation: https://pandas.pydata.org/pandas-docs/stable/user_guide/indexing.html#returning-a-view-versus-a-copy\n",
      "  \"\"\"Entry point for launching an IPython kernel.\n"
     ]
    }
   ],
   "source": [
    "test['url']=url_list"
   ]
  },
  {
   "cell_type": "code",
   "execution_count": null,
   "metadata": {
    "id": "Rq39m11G6kGL"
   },
   "outputs": [],
   "source": [
    "cl=[]\n",
    "for i in range(len(test)):\n",
    "    tc=str(test['Body'][i])\n",
    "    tc=remove_esc(tc)\n",
    "    tcl.append(tc)\n",
    "test['Body']=tcl\n",
    "\n",
    "\n"
   ]
  },
  {
   "cell_type": "code",
   "execution_count": null,
   "metadata": {
    "id": "eUxXz-zr6kLX"
   },
   "outputs": [],
   "source": [
    "esc=[]\n",
    "for i in range(len(test)):\n",
    "    st=str(test.iloc[i]['Body'])\n",
    "    st=remove_esc(st)\n",
    "    esc.append(st)\n",
    "test['clean_esc_body']=esc"
   ]
  },
  {
   "cell_type": "code",
   "execution_count": null,
   "metadata": {
    "colab": {
     "base_uri": "https://localhost:8080/"
    },
    "id": "JJRnz9zX82nP",
    "outputId": "0d7ac5cc-9a4c-4a5b-8e74-e5040c479dc1"
   },
   "outputs": [
    {
     "name": "stdout",
     "output_type": "stream",
     "text": [
      "Row that throws error is:\n",
      "405\n",
      "Row that throws error is:\n",
      "878\n",
      "Row that throws error is:\n",
      "1481\n",
      "Row that throws error is:\n",
      "1881\n",
      "Row that throws error is:\n",
      "2106\n",
      "Row that throws error is:\n",
      "2142\n",
      "Row that throws error is:\n",
      "2740\n",
      "Row that throws error is:\n",
      "3130\n",
      "Row that throws error is:\n",
      "3562\n",
      "Row that throws error is:\n",
      "3685\n",
      "Row that throws error is:\n",
      "4518\n",
      "Row that throws error is:\n",
      "4641\n",
      "Row that throws error is:\n",
      "4740\n"
     ]
    }
   ],
   "source": [
    "domain_list = []\n",
    "for i in range(len(test['SenderEmailAddress'])):\n",
    "    try:\n",
    "        email=str(test.iloc[i]['SenderEmailAddress'])\n",
    "        email_domain = extract_domain(email)\n",
    "        domain_list.append(email_domain)\n",
    "    except:\n",
    "        domain_list.append(\"NA\")\n",
    "        print(\"Row that throws error is:\")\n",
    "        print(i)"
   ]
  },
  {
   "cell_type": "code",
   "execution_count": null,
   "metadata": {
    "colab": {
     "base_uri": "https://localhost:8080/",
     "height": 35
    },
    "id": "gHKTwr826kQV",
    "outputId": "6cadf74e-eb29-47ac-fd9e-9a92faca3a23"
   },
   "outputs": [
    {
     "data": {
      "application/vnd.google.colaboratory.intrinsic+json": {
       "type": "string"
      },
      "text/plain": [
       "'R STEPHENS'"
      ]
     },
     "execution_count": 59,
     "metadata": {},
     "output_type": "execute_result"
    }
   ],
   "source": [
    "test.iloc[405]['SenderEmailAddress']"
   ]
  },
  {
   "cell_type": "code",
   "execution_count": null,
   "metadata": {
    "colab": {
     "base_uri": "https://localhost:8080/"
    },
    "id": "Dn1XGoRW6kS9",
    "outputId": "855610ab-f8af-4b76-f014-5ac16d70d14c"
   },
   "outputs": [
    {
     "name": "stderr",
     "output_type": "stream",
     "text": [
      "/usr/local/lib/python3.7/dist-packages/ipykernel_launcher.py:1: SettingWithCopyWarning: \n",
      "A value is trying to be set on a copy of a slice from a DataFrame.\n",
      "Try using .loc[row_indexer,col_indexer] = value instead\n",
      "\n",
      "See the caveats in the documentation: https://pandas.pydata.org/pandas-docs/stable/user_guide/indexing.html#returning-a-view-versus-a-copy\n",
      "  \"\"\"Entry point for launching an IPython kernel.\n"
     ]
    }
   ],
   "source": [
    "test['Domain_from']=domain_list"
   ]
  },
  {
   "cell_type": "code",
   "execution_count": null,
   "metadata": {
    "id": "i-7pgKR--ufY"
   },
   "outputs": [],
   "source": [
    "clean_subject=[]\n",
    "sub_pref_label=[]\n",
    "for i in range(len(test)):\n",
    "  \n",
    "    x=str(test.iloc[i]['Subject'])\n",
    "    a,b=remove_prefix(x)\n",
    "    clean_subject.append(a)\n",
    "    sub_pref_label.append(b)"
   ]
  },
  {
   "cell_type": "code",
   "execution_count": null,
   "metadata": {
    "id": "-S2ZyGDG-uiY"
   },
   "outputs": [],
   "source": [
    "test['clean_subject']=clean_subject\n",
    "test['sub_pref_label']=sub_pref_label"
   ]
  },
  {
   "cell_type": "code",
   "execution_count": null,
   "metadata": {
    "id": "7lNgBZvc-uk3"
   },
   "outputs": [],
   "source": [
    "test=pd.get_dummies(test,columns=['sub_pref_label'])"
   ]
  },
  {
   "cell_type": "code",
   "execution_count": null,
   "metadata": {
    "id": "5pD92qIP-uq3"
   },
   "outputs": [],
   "source": [
    "test.to_csv(\"test_preprocessed.csv\")"
   ]
  },
  {
   "cell_type": "markdown",
   "metadata": {
    "id": "XxOCww1I_rUI"
   },
   "source": [
    "# Model Building Starts Here"
   ]
  },
  {
   "cell_type": "code",
   "execution_count": null,
   "metadata": {
    "id": "0oPjsvCzAYia"
   },
   "outputs": [],
   "source": [
    "trainf=train[['clean_subject','clean_esc_body']]"
   ]
  },
  {
   "cell_type": "code",
   "execution_count": null,
   "metadata": {
    "id": "4JEdYXIGAYsh"
   },
   "outputs": [],
   "source": [
    "testf=test[['clean_subject','clean_esc_body']]"
   ]
  },
  {
   "cell_type": "markdown",
   "metadata": {
    "id": "qxbUx-7gJiKx"
   },
   "source": [
    "### Loading the training and testing"
   ]
  },
  {
   "cell_type": "code",
   "execution_count": null,
   "metadata": {
    "id": "WwNyhmLzOCpm"
   },
   "outputs": [],
   "source": [
    "train=pd.read_csv(\"/content/train_preprocessed.csv\")\n",
    "test=pd.read_csv(\"/content/test_preprocessed.csv\")\n",
    "\n"
   ]
  },
  {
   "cell_type": "code",
   "execution_count": null,
   "metadata": {
    "colab": {
     "base_uri": "https://localhost:8080/"
    },
    "id": "0ve-GP-dOc1k",
    "outputId": "a7dd1b85-99ae-4c4a-9157-678cda7bca1b"
   },
   "outputs": [
    {
     "data": {
      "text/plain": [
       "Unnamed: 0              0\n",
       "Subject               284\n",
       "Body                    2\n",
       "Label                   0\n",
       "SenderEmailAddress      0\n",
       "url                     0\n",
       "clean_esc_body          2\n",
       "Domain_from             0\n",
       "clean_subject           0\n",
       "sub_pref_label_0        0\n",
       "sub_pref_label_1        0\n",
       "sub_pref_label_2        0\n",
       "sub_pref_label_3        0\n",
       "dtype: int64"
      ]
     },
     "execution_count": 42,
     "metadata": {},
     "output_type": "execute_result"
    }
   ],
   "source": [
    "train.isnull().sum()"
   ]
  },
  {
   "cell_type": "markdown",
   "metadata": {
    "id": "VnyWd8g_Rym5"
   },
   "source": [
    "removing null from subject"
   ]
  },
  {
   "cell_type": "code",
   "execution_count": null,
   "metadata": {
    "id": "CvjoAq01PkRt"
   },
   "outputs": [],
   "source": [
    "null_from_index = train.loc[train['clean_subject'].isnull() == True].index\n"
   ]
  },
  {
   "cell_type": "code",
   "execution_count": null,
   "metadata": {
    "colab": {
     "base_uri": "https://localhost:8080/"
    },
    "id": "YDEkLq8pPvf8",
    "outputId": "8b665a35-f518-4ddd-ac93-04c8cceed848"
   },
   "outputs": [
    {
     "data": {
      "text/plain": [
       "Int64Index([   20,    26,    27,    46,    47,    51,    80,    93,   120,\n",
       "              121,\n",
       "            ...\n",
       "            10709, 10771, 10781, 10793, 10809, 10817, 10829, 10834, 10859,\n",
       "            10879],\n",
       "           dtype='int64', length=587)"
      ]
     },
     "execution_count": 24,
     "metadata": {},
     "output_type": "execute_result"
    }
   ],
   "source": [
    "null_from_index"
   ]
  },
  {
   "cell_type": "code",
   "execution_count": null,
   "metadata": {
    "id": "lX_mI4LDP1Ul"
   },
   "outputs": [],
   "source": [
    "for i in null_from_index:\n",
    "  train.loc[i,'clean_subject']=\"NOSUB\""
   ]
  },
  {
   "cell_type": "code",
   "execution_count": null,
   "metadata": {
    "colab": {
     "base_uri": "https://localhost:8080/",
     "height": 35
    },
    "id": "e-rs98I-Qhje",
    "outputId": "7483c957-8c01-44cb-aa3d-b7ec706581ce"
   },
   "outputs": [
    {
     "data": {
      "application/vnd.google.colaboratory.intrinsic+json": {
       "type": "string"
      },
      "text/plain": [
       "'NOSUB'"
      ]
     },
     "execution_count": 36,
     "metadata": {},
     "output_type": "execute_result"
    }
   ],
   "source": [
    "train.iloc[26]['clean_subject']"
   ]
  },
  {
   "cell_type": "markdown",
   "metadata": {
    "id": "cfdOeCguR2XR"
   },
   "source": [
    "removing null from body"
   ]
  },
  {
   "cell_type": "code",
   "execution_count": null,
   "metadata": {
    "id": "Jb7KQ0rNR7Ur"
   },
   "outputs": [],
   "source": [
    "null_from_index = train.loc[train['clean_esc_body'].isnull() == True].index\n"
   ]
  },
  {
   "cell_type": "code",
   "execution_count": null,
   "metadata": {
    "colab": {
     "base_uri": "https://localhost:8080/"
    },
    "id": "8iVeUugsR7Ur",
    "outputId": "7b49cad1-2655-40b2-e092-ece10f053a92"
   },
   "outputs": [
    {
     "data": {
      "text/plain": [
       "Int64Index([10895, 10980], dtype='int64')"
      ]
     },
     "execution_count": 44,
     "metadata": {},
     "output_type": "execute_result"
    }
   ],
   "source": [
    "null_from_index"
   ]
  },
  {
   "cell_type": "code",
   "execution_count": null,
   "metadata": {
    "id": "xvlCLZLnR7Us"
   },
   "outputs": [],
   "source": [
    "for i in null_from_index:\n",
    "  train.loc[i,'clean_esc_body']=\"NOBOD\""
   ]
  },
  {
   "cell_type": "code",
   "execution_count": null,
   "metadata": {
    "colab": {
     "base_uri": "https://localhost:8080/",
     "height": 35
    },
    "id": "tqysK8vxR7Us",
    "outputId": "d30429fe-ae57-4aa3-ae02-21ea4b46e778"
   },
   "outputs": [
    {
     "data": {
      "application/vnd.google.colaboratory.intrinsic+json": {
       "type": "string"
      },
      "text/plain": [
       "'NOBOD'"
      ]
     },
     "execution_count": 48,
     "metadata": {},
     "output_type": "execute_result"
    }
   ],
   "source": [
    "train.iloc[10895]['clean_esc_body']"
   ]
  },
  {
   "cell_type": "markdown",
   "metadata": {
    "id": "-S6RmLCkJiUa"
   },
   "source": [
    "#Validating the model on the training dataa\n"
   ]
  },
  {
   "cell_type": "code",
   "execution_count": null,
   "metadata": {
    "id": "K3MuEZh5Jo__"
   },
   "outputs": [],
   "source": [
    "from sklearn.model_selection import train_test_split"
   ]
  },
  {
   "cell_type": "code",
   "execution_count": null,
   "metadata": {
    "id": "IFHusceNJpDD"
   },
   "outputs": [],
   "source": [
    "X = train['clean_subject']\n",
    "y = train['Label']\n",
    "X_train_sub, X_test_sub, y_train_sub, y_test_sub = train_test_split(X, y, test_size = 0.2, random_state = 42)"
   ]
  },
  {
   "cell_type": "code",
   "execution_count": null,
   "metadata": {
    "id": "rfYrwdetJpGc"
   },
   "outputs": [],
   "source": [
    "X = train['clean_esc_body']\n",
    "y = train['Label']\n",
    "X_train_bod, X_test_bod, y_train_bod, y_test_bod = train_test_split(X, y, test_size = 0.2, random_state = 42)"
   ]
  },
  {
   "cell_type": "code",
   "execution_count": null,
   "metadata": {
    "id": "BZNy3VOqKuOF"
   },
   "outputs": [],
   "source": [
    "from sklearn.feature_extraction.text import TfidfVectorizer"
   ]
  },
  {
   "cell_type": "code",
   "execution_count": null,
   "metadata": {
    "id": "F7SuvAx0KuRs"
   },
   "outputs": [],
   "source": [
    "tfidf_vectorizer = TfidfVectorizer(ngram_range = (1, 2),max_features=6000)\n",
    "tfidf_sub = tfidf_vectorizer.fit_transform(X_train_sub)\n",
    "tfidf_bod = tfidf_vectorizer.fit_transform(X_train_bod)"
   ]
  },
  {
   "cell_type": "code",
   "execution_count": null,
   "metadata": {
    "id": "PQqQTrzwKuoq"
   },
   "outputs": [],
   "source": [
    "tfidf_test_sub = tfidf_vectorizer.transform(X_test_sub)\n",
    "tfidf_test_bod = tfidf_vectorizer.transform(X_test_bod)"
   ]
  },
  {
   "cell_type": "code",
   "execution_count": null,
   "metadata": {
    "id": "yIqdzZCRJjB9"
   },
   "outputs": [],
   "source": [
    "dup_train_features = np.hstack([\n",
    "    tfidf_sub.toarray(),\n",
    "    tfidf_bod.toarray()])\n",
    "# to concatenate the features"
   ]
  },
  {
   "cell_type": "code",
   "execution_count": null,
   "metadata": {
    "id": "cdFgatlGKtfv"
   },
   "outputs": [],
   "source": [
    "dup_test_features = np.hstack([\n",
    "    tfidf_test_sub.toarray(),\n",
    "    tfidf_test_bod.toarray()])"
   ]
  },
  {
   "cell_type": "code",
   "execution_count": null,
   "metadata": {
    "colab": {
     "base_uri": "https://localhost:8080/"
    },
    "id": "dBvS9mbSKti0",
    "outputId": "8f13abb9-01c7-451f-8ede-47f6427cc102"
   },
   "outputs": [
    {
     "data": {
      "text/plain": [
       "(8785, 12000)"
      ]
     },
     "execution_count": 57,
     "metadata": {},
     "output_type": "execute_result"
    }
   ],
   "source": [
    "dup_train_features.shape"
   ]
  },
  {
   "cell_type": "code",
   "execution_count": null,
   "metadata": {
    "colab": {
     "base_uri": "https://localhost:8080/"
    },
    "id": "QfwNLYtiSQ_v",
    "outputId": "9b539661-d56b-4c00-96a3-a394576b040b"
   },
   "outputs": [
    {
     "data": {
      "text/plain": [
       "(2197, 12000)"
      ]
     },
     "execution_count": 58,
     "metadata": {},
     "output_type": "execute_result"
    }
   ],
   "source": [
    "dup_test_features.shape"
   ]
  },
  {
   "cell_type": "code",
   "execution_count": null,
   "metadata": {
    "id": "dhqOa3UISRDU"
   },
   "outputs": [],
   "source": [
    "from sklearn.linear_model import LogisticRegression\n",
    "from sklearn.model_selection import GridSearchCV, StratifiedKFold\n",
    "from sklearn.metrics import f1_score"
   ]
  },
  {
   "cell_type": "code",
   "execution_count": null,
   "metadata": {
    "colab": {
     "base_uri": "https://localhost:8080/"
    },
    "id": "qhFjGb83SRGu",
    "outputId": "e6bb36e4-3c2d-4b5f-ea45-3cd330589bc3"
   },
   "outputs": [
    {
     "name": "stdout",
     "output_type": "stream",
     "text": [
      "Fitting 3 folds for each of 500 candidates, totalling 1500 fits\n"
     ]
    },
    {
     "name": "stderr",
     "output_type": "stream",
     "text": [
      "/usr/local/lib/python3.7/dist-packages/joblib/externals/loky/process_executor.py:705: UserWarning: A worker stopped while some jobs were given to the executor. This can be caused by a too short worker timeout or by a memory leak.\n",
      "  \"timeout or by a memory leak.\", UserWarning\n"
     ]
    }
   ],
   "source": [
    "lr = LogisticRegression()\n",
    "weights = np.linspace(0, 0.99, 100)# initialize random weights\n",
    "param_grid = {'class_weight' : [{0:x, 1: 1.0-x} for x in weights], 'C' : [0.01, 0.1, 1, 10, 100]}\n",
    "gridsearch = GridSearchCV(estimator= lr, \n",
    "                          param_grid= param_grid,\n",
    "                          cv=3, \n",
    "                          n_jobs=-1, \n",
    "                          scoring='f1', \n",
    "                          verbose=2).fit(dup_train_features, y_train_bod)"
   ]
  },
  {
   "cell_type": "code",
   "execution_count": null,
   "metadata": {
    "colab": {
     "base_uri": "https://localhost:8080/"
    },
    "id": "3yFjAY7YSROA",
    "outputId": "812785bf-b578-44f8-a57d-6bea05fa045c"
   },
   "outputs": [
    {
     "data": {
      "text/plain": [
       "{'C': 100, 'class_weight': {0: 0.12, 1: 0.88}}"
      ]
     },
     "execution_count": 64,
     "metadata": {},
     "output_type": "execute_result"
    }
   ],
   "source": [
    "gridsearch.best_params_"
   ]
  },
  {
   "cell_type": "code",
   "execution_count": null,
   "metadata": {
    "colab": {
     "base_uri": "https://localhost:8080/"
    },
    "id": "p7cglUaxSRom",
    "outputId": "e2de335d-8d83-4411-a264-4ef35f16fab8"
   },
   "outputs": [
    {
     "data": {
      "text/plain": [
       "0.9744525547445254"
      ]
     },
     "execution_count": 66,
     "metadata": {},
     "output_type": "execute_result"
    }
   ],
   "source": [
    "logreg = LogisticRegression(solver = 'newton-cg', C = 100, class_weight = {0: 0.12, 1: 0.88})\n",
    "logreg.fit(dup_train_features,y_train_bod)\n",
    "prediction = logreg.predict(dup_test_features)\n",
    "f1_score(y_test_bod, prediction)"
   ]
  },
  {
   "cell_type": "markdown",
   "metadata": {
    "id": "WYMfJ0NKD1c7"
   },
   "source": [
    "### This Model gave a Kaggle score on 0.56 and further models based on the tfidf features gave accuracy around the 0.67-0.82"
   ]
  }
 ],
 "metadata": {
  "colab": {
   "name": "preprocessing-part2.ipynb",
   "provenance": []
  },
  "kernelspec": {
   "display_name": "Python 3 (ipykernel)",
   "language": "python",
   "name": "python3"
  },
  "language_info": {
   "codemirror_mode": {
    "name": "ipython",
    "version": 3
   },
   "file_extension": ".py",
   "mimetype": "text/x-python",
   "name": "python",
   "nbconvert_exporter": "python",
   "pygments_lexer": "ipython3",
   "version": "3.9.7"
  }
 },
 "nbformat": 4,
 "nbformat_minor": 1
}
