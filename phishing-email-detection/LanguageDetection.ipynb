{
 "cells": [
  {
   "cell_type": "markdown",
   "id": "3c549994",
   "metadata": {},
   "source": [
    "### Language Detection to remove languages other than English"
   ]
  },
  {
   "cell_type": "code",
   "execution_count": 1,
   "id": "9c19f516",
   "metadata": {},
   "outputs": [
    {
     "name": "stdout",
     "output_type": "stream",
     "text": [
      "Collecting langdetect\n",
      "  Downloading langdetect-1.0.9.tar.gz (981 kB)\n",
      "\u001b[K     |████████████████████████████████| 981 kB 1.2 MB/s eta 0:00:01\n",
      "\u001b[?25hRequirement already satisfied: six in /opt/homebrew/anaconda3/lib/python3.9/site-packages (from langdetect) (1.16.0)\n",
      "Building wheels for collected packages: langdetect\n",
      "  Building wheel for langdetect (setup.py) ... \u001b[?25ldone\n",
      "\u001b[?25h  Created wheel for langdetect: filename=langdetect-1.0.9-py3-none-any.whl size=993242 sha256=2c9aaecdb2e41c284e90014b1d537a5035bd7ada11f54a6dd6b61c2ba346101e\n",
      "  Stored in directory: /Users/meghanab/Library/Caches/pip/wheels/d1/c1/d9/7e068de779d863bc8f8fc9467d85e25cfe47fa5051fff1a1bb\n",
      "Successfully built langdetect\n",
      "Installing collected packages: langdetect\n",
      "Successfully installed langdetect-1.0.9\n",
      "Note: you may need to restart the kernel to use updated packages.\n"
     ]
    }
   ],
   "source": [
    "pip install langdetect"
   ]
  },
  {
   "cell_type": "code",
   "execution_count": 1,
   "id": "62366a74",
   "metadata": {},
   "outputs": [],
   "source": [
    "from langdetect import detect"
   ]
  },
  {
   "cell_type": "code",
   "execution_count": 2,
   "id": "1ce004bd",
   "metadata": {},
   "outputs": [],
   "source": [
    "import pandas as pd\n",
    "import numpy as np"
   ]
  },
  {
   "cell_type": "code",
   "execution_count": 3,
   "id": "ced631f7",
   "metadata": {},
   "outputs": [],
   "source": [
    "df=pd.read_csv('og_traning_data.csv')"
   ]
  },
  {
   "cell_type": "code",
   "execution_count": 5,
   "id": "64dd696d",
   "metadata": {},
   "outputs": [
    {
     "data": {
      "text/plain": [
       "Unnamed: 0          0\n",
       "Subject           331\n",
       "body               17\n",
       "From               18\n",
       "To                382\n",
       "Label               0\n",
       "Original Body    8203\n",
       "dtype: int64"
      ]
     },
     "execution_count": 5,
     "metadata": {},
     "output_type": "execute_result"
    }
   ],
   "source": [
    "df.isnull().sum()"
   ]
  },
  {
   "cell_type": "code",
   "execution_count": 6,
   "id": "7bbbdfae",
   "metadata": {},
   "outputs": [],
   "source": [
    "null_index = df.loc[df['body'].isnull() == True].index\n",
    "df.drop(null_index, axis = 0, inplace=True)\n",
    "#Removing the null index"
   ]
  },
  {
   "cell_type": "code",
   "execution_count": 8,
   "id": "d2a7538e",
   "metadata": {},
   "outputs": [
    {
     "data": {
      "text/plain": [
       "Unnamed: 0          0\n",
       "Subject           330\n",
       "body                0\n",
       "From               18\n",
       "To                381\n",
       "Label               0\n",
       "Original Body    8203\n",
       "dtype: int64"
      ]
     },
     "execution_count": 8,
     "metadata": {},
     "output_type": "execute_result"
    }
   ],
   "source": [
    "df.isnull().sum()"
   ]
  },
  {
   "cell_type": "code",
   "execution_count": 21,
   "id": "b24ef5c1",
   "metadata": {},
   "outputs": [
    {
     "data": {
      "text/plain": [
       "'   \\n     '"
      ]
     },
     "execution_count": 21,
     "metadata": {},
     "output_type": "execute_result"
    }
   ],
   "source": [
    "df['body'][396]\n",
    "# certain cases like this lang detect will not work. Therefore we have to clean these first"
   ]
  },
  {
   "cell_type": "code",
   "execution_count": 17,
   "id": "7dc52710",
   "metadata": {},
   "outputs": [],
   "source": [
    "clean_lst=[]\n",
    "for i in range(len(df)):\n",
    "    s=df['body'][i]\n",
    "    s = s.replace('\\r', '')\n",
    "    s = s.replace('\\n', '')\n",
    "    s = s.replace('\\t', '')\n",
    "    clean_lst.append(s)\n",
    "    \n",
    "# replacing these sequences"
   ]
  },
  {
   "cell_type": "code",
   "execution_count": 19,
   "id": "61de0c59",
   "metadata": {},
   "outputs": [],
   "source": [
    "df['cleaned_body']=clean_lst"
   ]
  },
  {
   "cell_type": "code",
   "execution_count": 87,
   "id": "93a6f30e",
   "metadata": {},
   "outputs": [
    {
     "name": "stderr",
     "output_type": "stream",
     "text": [
      "/var/folders/_y/n5c_0dfx5pvc0w9mj_1vwbd80000gn/T/ipykernel_18164/84602638.py:3: SettingWithCopyWarning: \n",
      "A value is trying to be set on a copy of a slice from a DataFrame\n",
      "\n",
      "See the caveats in the documentation: https://pandas.pydata.org/pandas-docs/stable/user_guide/indexing.html#returning-a-view-versus-a-copy\n",
      "  df['cleaned_body'][i] = 'NaN'\n"
     ]
    }
   ],
   "source": [
    "for i in range(len(df)):\n",
    "    if df['cleaned_body'][i].strip() == '':\n",
    "        df['cleaned_body'][i] = 'NaN'\n",
    "# replacing empty spaces with NAN"
   ]
  },
  {
   "cell_type": "code",
   "execution_count": 26,
   "id": "d0d24a81",
   "metadata": {},
   "outputs": [
    {
     "data": {
      "text/plain": [
       "Int64Index([  396,  1150,  1816,  1878,  1936,  1948,  2231,  2580,  2637,\n",
       "             3214,  3588,  3844,  3856,  3885,  4169,  4967,  5073,  5204,\n",
       "             5290,  5301,  5475,  5638,  5701,  6686,  6795,  6804,  7383,\n",
       "             7410,  7556,  7762,  7855,  7878,  8051,  8074,  8166,  8426,\n",
       "             8518,  8917,  9257,  9301,  9820,  9915,  9980, 10569, 10678,\n",
       "            10767, 11027, 11031],\n",
       "           dtype='int64')"
      ]
     },
     "execution_count": 26,
     "metadata": {},
     "output_type": "execute_result"
    }
   ],
   "source": [
    "df.loc[df['cleaned_body'] == 'NaN'].index"
   ]
  },
  {
   "cell_type": "code",
   "execution_count": 27,
   "id": "3ece382d",
   "metadata": {},
   "outputs": [],
   "source": [
    "lang_lst=[]\n",
    "for i in range(len(df)):\n",
    "    try:\n",
    "        lang_lst.append(detect(df['cleaned_body'][i]))\n",
    "\n",
    "    except:\n",
    "        language = \"error\"\n",
    "        print(\"This row throws and error:\", df[i])"
   ]
  },
  {
   "cell_type": "code",
   "execution_count": 28,
   "id": "66f8d489",
   "metadata": {},
   "outputs": [
    {
     "data": {
      "text/plain": [
       "en       10896\n",
       "fr         248\n",
       "es          84\n",
       "pt          73\n",
       "de          68\n",
       "so          49\n",
       "vi          48\n",
       "nl          44\n",
       "ca          30\n",
       "it          30\n",
       "tr          24\n",
       "no          18\n",
       "cy          14\n",
       "af          14\n",
       "et          12\n",
       "tl          11\n",
       "id           9\n",
       "da           8\n",
       "sv           8\n",
       "sl           5\n",
       "ro           3\n",
       "pl           3\n",
       "bg           2\n",
       "uk           2\n",
       "sq           2\n",
       "ko           2\n",
       "cs           2\n",
       "hu           1\n",
       "fi           1\n",
       "lv           1\n",
       "zh-cn        1\n",
       "sk           1\n",
       "sw           1\n",
       "ja           1\n",
       "Name: language, dtype: int64"
      ]
     },
     "execution_count": 28,
     "metadata": {},
     "output_type": "execute_result"
    }
   ],
   "source": [
    "df['language'] = lang_lst\n",
    "df['language'].value_counts()"
   ]
  },
  {
   "cell_type": "code",
   "execution_count": 29,
   "id": "54d52979",
   "metadata": {},
   "outputs": [
    {
     "data": {
      "text/plain": [
       "(11716, 9)"
      ]
     },
     "execution_count": 29,
     "metadata": {},
     "output_type": "execute_result"
    }
   ],
   "source": [
    "df.shape"
   ]
  },
  {
   "cell_type": "code",
   "execution_count": 31,
   "id": "7becd2a9",
   "metadata": {},
   "outputs": [],
   "source": [
    "df = df.loc[df.language == 'en']\n"
   ]
  },
  {
   "cell_type": "code",
   "execution_count": 32,
   "id": "2b320c69",
   "metadata": {},
   "outputs": [
    {
     "data": {
      "text/plain": [
       "(10896, 9)"
      ]
     },
     "execution_count": 32,
     "metadata": {},
     "output_type": "execute_result"
    }
   ],
   "source": [
    "df.shape"
   ]
  },
  {
   "cell_type": "code",
   "execution_count": null,
   "id": "30610e26",
   "metadata": {},
   "outputs": [],
   "source": [
    "df.to_csv('cleaned_data.csv')"
   ]
  }
 ],
 "metadata": {
  "kernelspec": {
   "display_name": "Python 3 (ipykernel)",
   "language": "python",
   "name": "python3"
  },
  "language_info": {
   "codemirror_mode": {
    "name": "ipython",
    "version": 3
   },
   "file_extension": ".py",
   "mimetype": "text/x-python",
   "name": "python",
   "nbconvert_exporter": "python",
   "pygments_lexer": "ipython3",
   "version": "3.9.7"
  }
 },
 "nbformat": 4,
 "nbformat_minor": 5
}
