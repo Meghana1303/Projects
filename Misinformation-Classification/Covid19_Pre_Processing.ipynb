{
  "nbformat": 4,
  "nbformat_minor": 0,
  "metadata": {
    "colab": {
      "name": "Covid19_Pre_Processing.ipynb",
      "provenance": []
    },
    "kernelspec": {
      "name": "python3",
      "display_name": "Python 3"
    },
    "language_info": {
      "name": "python"
    }
  },
  "cells": [
    {
      "cell_type": "code",
      "metadata": {
        "id": "m779Q9i-dj5u"
      },
      "source": [
        "import pandas as pd\n",
        "import numpy as np"
      ],
      "execution_count": null,
      "outputs": []
    },
    {
      "cell_type": "code",
      "metadata": {
        "id": "eMBnMwl6fOaL"
      },
      "source": [
        "df = pd.read_csv(\"/content/tweets.csv\")\n",
        "df.info()"
      ],
      "execution_count": null,
      "outputs": []
    },
    {
      "cell_type": "markdown",
      "metadata": {
        "id": "Wkg0e4Ce6Uvc"
      },
      "source": [
        "# Preprocessing :\n"
      ]
    },
    {
      "cell_type": "markdown",
      "metadata": {
        "id": "zkG8K7aZh7Pg"
      },
      "source": [
        "### 1. deleting duplicated tweets"
      ]
    },
    {
      "cell_type": "code",
      "metadata": {
        "id": "jTZpKBrQzy8u"
      },
      "source": [
        "df.drop_duplicates(subset = 'Tweets', keep = 'first', inplace = True)\n",
        "df.reset_index(inplace=True, drop=True)"
      ],
      "execution_count": null,
      "outputs": []
    },
    {
      "cell_type": "code",
      "metadata": {
        "colab": {
          "base_uri": "https://localhost:8080/"
        },
        "id": "P20DnLQU0EJW",
        "outputId": "e1da6517-186a-4b51-fde4-2ddf52b6151e"
      },
      "source": [
        "df.info()"
      ],
      "execution_count": null,
      "outputs": [
        {
          "output_type": "stream",
          "text": [
            "<class 'pandas.core.frame.DataFrame'>\n",
            "RangeIndex: 106293 entries, 0 to 106292\n",
            "Data columns (total 2 columns):\n",
            " #   Column    Non-Null Count   Dtype \n",
            "---  ------    --------------   ----- \n",
            " 0   Tweet ID  106293 non-null  object\n",
            " 1   Tweets    106293 non-null  object\n",
            "dtypes: object(2)\n",
            "memory usage: 1.6+ MB\n"
          ],
          "name": "stdout"
        }
      ]
    },
    {
      "cell_type": "markdown",
      "metadata": {
        "id": "Qp0HLkhu8OBi"
      },
      "source": [
        "### 2. Deleting retweets (this is in accrdance with the pre processing method followed in reference [1])"
      ]
    },
    {
      "cell_type": "code",
      "metadata": {
        "id": "0kkKeY8X7a5w"
      },
      "source": [
        "retweets = df['Tweets'].str.startswith('RT')"
      ],
      "execution_count": null,
      "outputs": []
    },
    {
      "cell_type": "code",
      "metadata": {
        "colab": {
          "base_uri": "https://localhost:8080/"
        },
        "id": "_WT5dxzz8ala",
        "outputId": "a85fe036-e195-44aa-8b27-255dfca81183"
      },
      "source": [
        "retweets.describe()"
      ],
      "execution_count": null,
      "outputs": [
        {
          "output_type": "execute_result",
          "data": {
            "text/plain": [
              "count     106293\n",
              "unique         2\n",
              "top        False\n",
              "freq      106138\n",
              "Name: Tweets, dtype: object"
            ]
          },
          "metadata": {
            "tags": []
          },
          "execution_count": 15
        }
      ]
    },
    {
      "cell_type": "markdown",
      "metadata": {
        "id": "Dta22hhQ8rkQ"
      },
      "source": [
        "##### Thus we can see that one of the tweets is a retweet, hence we delete it from the dataset"
      ]
    },
    {
      "cell_type": "code",
      "metadata": {
        "colab": {
          "base_uri": "https://localhost:8080/",
          "height": 417
        },
        "id": "i-IkZPSObW0c",
        "outputId": "fbeade9d-4709-41ee-baf1-8db653b281ff"
      },
      "source": [
        "x = df[df['Tweets'].str.startswith('RT ')]\n",
        "x"
      ],
      "execution_count": null,
      "outputs": [
        {
          "output_type": "execute_result",
          "data": {
            "text/html": [
              "<div>\n",
              "<style scoped>\n",
              "    .dataframe tbody tr th:only-of-type {\n",
              "        vertical-align: middle;\n",
              "    }\n",
              "\n",
              "    .dataframe tbody tr th {\n",
              "        vertical-align: top;\n",
              "    }\n",
              "\n",
              "    .dataframe thead th {\n",
              "        text-align: right;\n",
              "    }\n",
              "</style>\n",
              "<table border=\"1\" class=\"dataframe\">\n",
              "  <thead>\n",
              "    <tr style=\"text-align: right;\">\n",
              "      <th></th>\n",
              "      <th>Tweet ID</th>\n",
              "      <th>Tweets</th>\n",
              "    </tr>\n",
              "  </thead>\n",
              "  <tbody>\n",
              "    <tr>\n",
              "      <th>284</th>\n",
              "      <td>1383347585386041088</td>\n",
              "      <td>RT @swachhbharat RT @MoHFW_INDIA: Always stand...</td>\n",
              "    </tr>\n",
              "    <tr>\n",
              "      <th>1384</th>\n",
              "      <td>1383479141639482880</td>\n",
              "      <td>RT for National Cause.\\n\\n#remdesivirinjection...</td>\n",
              "    </tr>\n",
              "    <tr>\n",
              "      <th>2028</th>\n",
              "      <td>1383352597961056000</td>\n",
              "      <td>RT @ndtvfeed: UP Pharmacist Sacked For Giving ...</td>\n",
              "    </tr>\n",
              "    <tr>\n",
              "      <th>2029</th>\n",
              "      <td>1383352591141129984</td>\n",
              "      <td>RT @ndtvfeed: Over 1,700 Test COVID-19 Positiv...</td>\n",
              "    </tr>\n",
              "    <tr>\n",
              "      <th>2030</th>\n",
              "      <td>1383352555338551040</td>\n",
              "      <td>RT @ndtvfeed: Akhilesh Yadav Tests Covid Posit...</td>\n",
              "    </tr>\n",
              "    <tr>\n",
              "      <th>...</th>\n",
              "      <td>...</td>\n",
              "      <td>...</td>\n",
              "    </tr>\n",
              "    <tr>\n",
              "      <th>102416</th>\n",
              "      <td>1390221744871415808</td>\n",
              "      <td>RT if you think complete #lockdown is the only...</td>\n",
              "    </tr>\n",
              "    <tr>\n",
              "      <th>103107</th>\n",
              "      <td>1390106648568639489</td>\n",
              "      <td>RT @USAID: Within six days, six flights full o...</td>\n",
              "    </tr>\n",
              "    <tr>\n",
              "      <th>103108</th>\n",
              "      <td>1390106647079669763</td>\n",
              "      <td>RT @USAID: Within six days, six flights full o...</td>\n",
              "    </tr>\n",
              "    <tr>\n",
              "      <th>105677</th>\n",
              "      <td>1390203016482107393</td>\n",
              "      <td>RT A poem inspired by the Khandav van dahan ep...</td>\n",
              "    </tr>\n",
              "    <tr>\n",
              "      <th>106041</th>\n",
              "      <td>1390310712501809156</td>\n",
              "      <td>RT STOPTHETRAFFIK: (1/2) The world is watching...</td>\n",
              "    </tr>\n",
              "  </tbody>\n",
              "</table>\n",
              "<p>135 rows × 2 columns</p>\n",
              "</div>"
            ],
            "text/plain": [
              "                   Tweet ID                                             Tweets\n",
              "284     1383347585386041088  RT @swachhbharat RT @MoHFW_INDIA: Always stand...\n",
              "1384    1383479141639482880  RT for National Cause.\\n\\n#remdesivirinjection...\n",
              "2028    1383352597961056000  RT @ndtvfeed: UP Pharmacist Sacked For Giving ...\n",
              "2029    1383352591141129984  RT @ndtvfeed: Over 1,700 Test COVID-19 Positiv...\n",
              "2030    1383352555338551040  RT @ndtvfeed: Akhilesh Yadav Tests Covid Posit...\n",
              "...                     ...                                                ...\n",
              "102416  1390221744871415808  RT if you think complete #lockdown is the only...\n",
              "103107  1390106648568639489  RT @USAID: Within six days, six flights full o...\n",
              "103108  1390106647079669763  RT @USAID: Within six days, six flights full o...\n",
              "105677  1390203016482107393  RT A poem inspired by the Khandav van dahan ep...\n",
              "106041  1390310712501809156  RT STOPTHETRAFFIK: (1/2) The world is watching...\n",
              "\n",
              "[135 rows x 2 columns]"
            ]
          },
          "metadata": {
            "tags": []
          },
          "execution_count": 19
        }
      ]
    },
    {
      "cell_type": "code",
      "metadata": {
        "colab": {
          "base_uri": "https://localhost:8080/"
        },
        "id": "j6FZDD9iiif8",
        "outputId": "aa133c6c-abef-4af8-ae71-8a024af433e8"
      },
      "source": [
        "#912, 92449  , 24756 48795   62442  66968  \n",
        "print([*x.index])"
      ],
      "execution_count": null,
      "outputs": [
        {
          "output_type": "stream",
          "text": [
            "[284, 1384, 2028, 2029, 2030, 5246, 9000, 9164, 9239, 9241, 11098, 12984, 12989, 14460, 14694, 15432, 15442, 15455, 15754, 15756, 17655, 17660, 17858, 19794, 19795, 19913, 20087, 25193, 32417, 32418, 34453, 34889, 36459, 36586, 37652, 37654, 37655, 38201, 38499, 39577, 40830, 41711, 41716, 43953, 44474, 45359, 46093, 47089, 47401, 49076, 49602, 49603, 50514, 50628, 52013, 52480, 54123, 56290, 56292, 56300, 57264, 58391, 59975, 59976, 59977, 60673, 61192, 61197, 61516, 61754, 62727, 63453, 65871, 66288, 66551, 66672, 66951, 69401, 69402, 70631, 71383, 72503, 72964, 73009, 73365, 73610, 73656, 76877, 78477, 79748, 79749, 80241, 80359, 85117, 85895, 85896, 86010, 86011, 86123, 86238, 86243, 87687, 88252, 88253, 89384, 89404, 89405, 91115, 91116, 91153, 91797, 91801, 91818, 92210, 92331, 92332, 93723, 96753, 97396, 97484, 98183, 98184, 98377, 98381, 98596, 99453, 99542, 99593, 101831, 102183, 102416, 103107, 103108, 105677, 106041]\n"
          ],
          "name": "stdout"
        }
      ]
    },
    {
      "cell_type": "code",
      "metadata": {
        "id": "2hmTPNIx0ekT"
      },
      "source": [
        "rem =[284, 1384, 2028, 2029, 2030, 5246, 9000, 9164, 9239, 9241, 11098, 12984, 12989, 14460, 14694, 15432, 15442, 15455, 15754, 15756, 17655, 17660, 17858, 19794, 19795, 19913, 20087, 25193, 32417, 32418, 34453, 34889, 36459, 36586, 37652, 37654, 37655, 38201, 38499, 39577, 40830, 41711, 41716, 43953, 44474, 45359, 46093, 47089, 47401, 49076, 49602, 49603, 50514, 50628, 52013, 52480, 54123, 56290, 56292, 56300, 57264, 58391, 59975, 59976, 59977, 60673, 61192, 61197, 61516, 61754, 62727, 63453, 65871, 66288, 66551, 66672, 66951, 69401, 69402, 70631, 71383, 72503, 72964, 73009, 73365, 73610, 73656, 76877, 78477, 79748, 79749, 80241, 80359, 85117, 85895, 85896, 86010, 86011, 86123, 86238, 86243, 87687, 88252, 88253, 89384, 89404, 89405, 91115, 91116, 91153, 91797, 91801, 91818, 92210, 92331, 92332, 93723, 96753, 97396, 97484, 98183, 98184, 98377, 98381, 98596, 99453, 99542, 99593, 101831, 102183, 102416, 103107, 103108, 105677, 106041]"
      ],
      "execution_count": null,
      "outputs": []
    },
    {
      "cell_type": "code",
      "metadata": {
        "id": "SMHZDdjZ8eQm"
      },
      "source": [
        "df.drop(rem, axis = 0, inplace=True)\n",
        "df.reset_index(inplace=True, drop=True )"
      ],
      "execution_count": null,
      "outputs": []
    },
    {
      "cell_type": "code",
      "metadata": {
        "colab": {
          "base_uri": "https://localhost:8080/"
        },
        "id": "Q1NI0FLl83Ie",
        "outputId": "5df23d65-e82a-4e29-dfcc-b8eb33819b57"
      },
      "source": [
        "df.info()"
      ],
      "execution_count": null,
      "outputs": [
        {
          "output_type": "stream",
          "text": [
            "<class 'pandas.core.frame.DataFrame'>\n",
            "RangeIndex: 106158 entries, 0 to 106157\n",
            "Data columns (total 2 columns):\n",
            " #   Column    Non-Null Count   Dtype \n",
            "---  ------    --------------   ----- \n",
            " 0   Tweet ID  106158 non-null  object\n",
            " 1   Tweets    106158 non-null  object\n",
            "dtypes: object(2)\n",
            "memory usage: 1.6+ MB\n"
          ],
          "name": "stdout"
        }
      ]
    },
    {
      "cell_type": "markdown",
      "metadata": {
        "id": "igZ-FYAd-efQ"
      },
      "source": [
        "###3. Removing usernames/mentions, emails, links and tags(they do not provide any useful information for the classification process)\n"
      ]
    },
    {
      "cell_type": "code",
      "metadata": {
        "id": "2YOHUEXx85i8"
      },
      "source": [
        "import re\n",
        "for i in range(len(df)):\n",
        "  Tweet = df['Tweets'].iloc[i]\n",
        "  Tweet = re.sub('@[^\\s]+',' ',Tweet) #usernames\n",
        "  Tweet = re.sub('[a-z0-9\\.\\-+_]+@[a-z0-9\\.\\-+_]+\\.[a-z]+',' ',Tweet) #email IDs\n",
        "  Tweet = re.sub(r\"http\\S+\", \" \", Tweet) #links\n",
        "  Tweet = re.sub(r\"#[A-Za-z0-9]+\", \" \", Tweet) #tags\n",
        "  df.at[i,'Tweets'] = Tweet\n"
      ],
      "execution_count": null,
      "outputs": []
    },
    {
      "cell_type": "markdown",
      "metadata": {
        "id": "CBoTZre8gRK3"
      },
      "source": [
        "###4. Extracting hashtags into a different array so that i can remove them from original tweet"
      ]
    },
    {
      "cell_type": "code",
      "metadata": {
        "id": "F07GlV9egdAi"
      },
      "source": [
        "import re\n",
        "hashtags = []\n",
        "for i in range(len(df)):\n",
        "  Tweet = df['Tweets'].iloc[i]\n",
        "  hashtag = re.findall(r\"#(\\w+)\", Tweet)\n",
        "  hashtags.append(hashtag)\n",
        "  Tweet = re.sub('\\n', ' ', Tweet)\n",
        "  Tweet = re.sub('\\r', ' ', Tweet)\n",
        "  Tweet = re.sub('\\t', ' ', Tweet)\n",
        "  words = Tweet.split()\n",
        "  table = str.maketrans(' ', ' ', '.!\"#$%&\\'()*+,-/:;<=>?@[\\\\]^_`{|}~—‘’”“')\n",
        "  stripped = [w.translate(table) for w in words]\n",
        "  df.at[i,'Tweets'] = \" \".join(stripped)\n"
      ],
      "execution_count": null,
      "outputs": []
    },
    {
      "cell_type": "code",
      "metadata": {
        "colab": {
          "base_uri": "https://localhost:8080/"
        },
        "id": "ijg8AJ1Xghuw",
        "outputId": "b6f9bd95-466b-4290-ea16-a67c098bb41c"
      },
      "source": [
        "hashtags[0:5]"
      ],
      "execution_count": null,
      "outputs": [
        {
          "output_type": "execute_result",
          "data": {
            "text/plain": [
              "[]"
            ]
          },
          "metadata": {
            "tags": []
          },
          "execution_count": 19
        }
      ]
    },
    {
      "cell_type": "markdown",
      "metadata": {
        "id": "t9sjWV5Bc6CC"
      },
      "source": [
        "###5. Lowercasing"
      ]
    },
    {
      "cell_type": "code",
      "metadata": {
        "id": "6MGaXsvdc5um"
      },
      "source": [
        "for i in range(len(df)):\n",
        "    Tweet = df['Tweets'].iloc[i]\n",
        "    df.at[i,'Tweets'] = Tweet.lower()"
      ],
      "execution_count": null,
      "outputs": []
    },
    {
      "cell_type": "markdown",
      "metadata": {
        "id": "eDMR2PjfFlvw"
      },
      "source": [
        "###6. Replacing emoticons with corresponding words "
      ]
    },
    {
      "cell_type": "code",
      "metadata": {
        "id": "B50giLeVGXty"
      },
      "source": [
        "!pip install emot"
      ],
      "execution_count": null,
      "outputs": []
    },
    {
      "cell_type": "code",
      "metadata": {
        "colab": {
          "base_uri": "https://localhost:8080/",
          "height": 35
        },
        "id": "KHSNf73EGFjZ",
        "outputId": "bf2cf55c-f4f7-4450-e19d-3026fff40a91"
      },
      "source": [
        "import re\n",
        "from emot.emo_unicode import UNICODE_EMO, EMOTICONS\n",
        "\n",
        "def convert_emoticons(text):\n",
        "  for emot in EMOTICONS:\n",
        "    text = re.sub(u'('+emot+')', \" \".join(EMOTICONS[emot].replace(\",\",\"\").split()), text)\n",
        "  return text\n",
        "\n",
        "def convert_emojis(text):\n",
        "  for emot in UNICODE_EMO:\n",
        "    s = \" \".join(UNICODE_EMO[emot].replace(\",\",\"\").replace(\":\",\"\").split(\"_\"))\n",
        "    s = \" \"+s+\" \"\n",
        "    text = text.replace(emot, s)\n",
        "  return text\n",
        "  "
      ],
      "execution_count": null,
      "outputs": [
        {
          "output_type": "execute_result",
          "data": {
            "application/vnd.google.colaboratory.intrinsic+json": {
              "type": "string"
            },
            "text/plain": [
              "'Hello Happy face or smiley Happy face smiley'"
            ]
          },
          "metadata": {
            "tags": []
          },
          "execution_count": 33
        }
      ]
    },
    {
      "cell_type": "code",
      "metadata": {
        "id": "0XU5-VgzMIA_"
      },
      "source": [
        "for i in range(len(df)):\n",
        "  Tweet = df['Tweets'].iloc[i]\n",
        "  Tweet = convert_emojis(Tweet)\n",
        "  df.at[i,'Tweets'] = Tweet\n",
        "  Tweet = convert_emoticons(Tweet)\n",
        "  df.at[i,'Tweets'] = Tweet"
      ],
      "execution_count": null,
      "outputs": []
    },
    {
      "cell_type": "markdown",
      "metadata": {
        "id": "IMAy5Mn6hlru"
      },
      "source": [
        "###7. Stop word removal"
      ]
    },
    {
      "cell_type": "code",
      "metadata": {
        "colab": {
          "base_uri": "https://localhost:8080/"
        },
        "id": "KFm5CzF9g3HZ",
        "outputId": "458a0209-90bb-4831-e4c0-d8e22def4267"
      },
      "source": [
        "import nltk\n",
        "nltk.download(\"stopwords\") \n",
        "nltk.download('punkt')\n",
        "from nltk.corpus import stopwords\n",
        "stopword = stopwords.words('english')\n",
        "for i in range(len(df)):\n",
        "  Tweet = df['Tweets'].iloc[i]\n",
        "  word_tokens = nltk.word_tokenize(Tweet)\n",
        "  removing_stopwords = [word for word in word_tokens if word not in stopword]\n",
        "  df.at[i,'Tweets'] = \" \".join(removing_stopwords)"
      ],
      "execution_count": null,
      "outputs": [
        {
          "output_type": "stream",
          "text": [
            "[nltk_data] Downloading package stopwords to /root/nltk_data...\n",
            "[nltk_data]   Package stopwords is already up-to-date!\n",
            "[nltk_data] Downloading package punkt to /root/nltk_data...\n",
            "[nltk_data]   Package punkt is already up-to-date!\n"
          ],
          "name": "stdout"
        }
      ]
    },
    {
      "cell_type": "markdown",
      "metadata": {
        "id": "nWXHlU-XlEPC"
      },
      "source": [
        "### I noticed that after these steps some duplicates showed up, which were not identified earlier due to casing issues or maybe some punctuation. So i remove the duplicates here"
      ]
    },
    {
      "cell_type": "code",
      "metadata": {
        "id": "vX9d466WnQrw"
      },
      "source": [
        "df.drop_duplicates(subset = 'Tweets', keep = 'first', inplace = True)\n",
        "df.reset_index(inplace=True, drop=True)"
      ],
      "execution_count": null,
      "outputs": []
    },
    {
      "cell_type": "code",
      "metadata": {
        "colab": {
          "base_uri": "https://localhost:8080/"
        },
        "id": "ZW24YWJYl6yJ",
        "outputId": "895741ed-c7a4-4538-92b8-2a4bea25d140"
      },
      "source": [
        "df.info()"
      ],
      "execution_count": null,
      "outputs": [
        {
          "output_type": "stream",
          "text": [
            "<class 'pandas.core.frame.DataFrame'>\n",
            "RangeIndex: 84300 entries, 0 to 84299\n",
            "Data columns (total 2 columns):\n",
            " #   Column    Non-Null Count  Dtype \n",
            "---  ------    --------------  ----- \n",
            " 0   Tweet ID  84300 non-null  object\n",
            " 1   Tweets    84300 non-null  object\n",
            "dtypes: object(2)\n",
            "memory usage: 1.3+ MB\n"
          ],
          "name": "stdout"
        }
      ]
    },
    {
      "cell_type": "code",
      "metadata": {
        "colab": {
          "base_uri": "https://localhost:8080/",
          "height": 254
        },
        "id": "DYNUFp5uAAqC",
        "outputId": "cb754609-7edb-40d2-f97c-5cbba62e5875"
      },
      "source": [
        "df.sample(7)"
      ],
      "execution_count": null,
      "outputs": [
        {
          "output_type": "execute_result",
          "data": {
            "text/html": [
              "<div>\n",
              "<style scoped>\n",
              "    .dataframe tbody tr th:only-of-type {\n",
              "        vertical-align: middle;\n",
              "    }\n",
              "\n",
              "    .dataframe tbody tr th {\n",
              "        vertical-align: top;\n",
              "    }\n",
              "\n",
              "    .dataframe thead th {\n",
              "        text-align: right;\n",
              "    }\n",
              "</style>\n",
              "<table border=\"1\" class=\"dataframe\">\n",
              "  <thead>\n",
              "    <tr style=\"text-align: right;\">\n",
              "      <th></th>\n",
              "      <th>Tweet ID</th>\n",
              "      <th>Tweets</th>\n",
              "    </tr>\n",
              "  </thead>\n",
              "  <tbody>\n",
              "    <tr>\n",
              "      <th>25086</th>\n",
              "      <td>1386043303687303173</td>\n",
              "      <td>lockdown lagao or end up like india or lose ou...</td>\n",
              "    </tr>\n",
              "    <tr>\n",
              "      <th>4994</th>\n",
              "      <td>1383909838955056896</td>\n",
              "      <td>mumbai on saturday recorded 8811 new cases and...</td>\n",
              "    </tr>\n",
              "    <tr>\n",
              "      <th>29707</th>\n",
              "      <td>1386303181429219335</td>\n",
              "      <td>anytimefitness kempscorner dont let lockdown a...</td>\n",
              "    </tr>\n",
              "    <tr>\n",
              "      <th>67110</th>\n",
              "      <td>1389537390465753092</td>\n",
              "      <td>consider imposing lockdown to control second w...</td>\n",
              "    </tr>\n",
              "    <tr>\n",
              "      <th>7223</th>\n",
              "      <td>1383992515573871104</td>\n",
              "      <td>okay if we write the exams and if any student ...</td>\n",
              "    </tr>\n",
              "    <tr>\n",
              "      <th>24535</th>\n",
              "      <td>1385885439685382151</td>\n",
              "      <td>extend delhi covid19 lockdown by another week ...</td>\n",
              "    </tr>\n",
              "    <tr>\n",
              "      <th>71949</th>\n",
              "      <td>1389911035444965380</td>\n",
              "      <td>government of india faces coronovirus lockdown...</td>\n",
              "    </tr>\n",
              "  </tbody>\n",
              "</table>\n",
              "</div>"
            ],
            "text/plain": [
              "                  Tweet ID                                             Tweets\n",
              "25086  1386043303687303173  lockdown lagao or end up like india or lose ou...\n",
              "4994   1383909838955056896  mumbai on saturday recorded 8811 new cases and...\n",
              "29707  1386303181429219335  anytimefitness kempscorner dont let lockdown a...\n",
              "67110  1389537390465753092  consider imposing lockdown to control second w...\n",
              "7223   1383992515573871104  okay if we write the exams and if any student ...\n",
              "24535  1385885439685382151  extend delhi covid19 lockdown by another week ...\n",
              "71949  1389911035444965380  government of india faces coronovirus lockdown..."
            ]
          },
          "metadata": {
            "tags": []
          },
          "execution_count": 58
        }
      ]
    }
  ]
}